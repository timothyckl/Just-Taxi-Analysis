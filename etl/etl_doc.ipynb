{
 "cells": [
  {
   "cell_type": "markdown",
   "metadata": {},
   "source": [
    "# ETL Pipeline\n",
    "To load data from SQL into python"
   ]
  },
  {
   "cell_type": "code",
   "execution_count": 5,
   "metadata": {},
   "outputs": [],
   "source": [
    "from sqlalchemy import create_engine\n",
    "import pandas as pd\n",
    "import dask.dataframe as dd"
   ]
  },
  {
   "cell_type": "markdown",
   "metadata": {},
   "source": [
    "# Extract\n",
    "Load all 3 tables from SQL into pandas DataFrames"
   ]
  },
  {
   "cell_type": "code",
   "execution_count": 6,
   "metadata": {},
   "outputs": [
    {
     "name": "stdout",
     "output_type": "stream",
     "text": [
      "Wall time: 660 ms\n"
     ]
    }
   ],
   "source": [
    "%%time\n",
    "# connect to MS-SQL\n",
    "server = \"WATER\\SQLEXPRESS\" # SQL Server Name\n",
    "database = \"JustTaxi\" # database name\n",
    "con_string = f'mssql+pyodbc://{server}/{database}?driver=SQL Server'\n",
    "engine = create_engine(con_string)\n",
    "\n",
    "# retrieve data\n",
    "connection = engine.connect()\n",
    "\n",
    "# driver data\n",
    "drivers = connection.execute('SELECT * FROM drivers')\n",
    "driver_data = pd.DataFrame(data=drivers.fetchall(), columns=drivers.keys())\n",
    "\n",
    "# trip data\n",
    "trips = connection.execute('SELECT * FROM trips')\n",
    "trip_data = pd.DataFrame(data=trips.fetchall(), columns=trips.keys())\n",
    "\n",
    "connection.close() # close connection explicitly"
   ]
  },
  {
   "cell_type": "code",
   "execution_count": 7,
   "metadata": {},
   "outputs": [
    {
     "name": "stdout",
     "output_type": "stream",
     "text": [
      "Wall time: 7min\n"
     ]
    }
   ],
   "source": [
    "%%time\n",
    "# get sensor data by chunksize\n",
    "# connection = engine.connect().execution_options(stream_results=True)\n",
    "sensor_data_generator = pd.read_sql_query('SELECT * FROM sensor_data', con_string, chunksize=100000)\n",
    "sensor_data = pd.concat([chunk for chunk in sensor_data_generator])"
   ]
  },
  {
   "cell_type": "code",
   "execution_count": 8,
   "metadata": {},
   "outputs": [
    {
     "name": "stdout",
     "output_type": "stream",
     "text": [
      "<class 'pandas.core.frame.DataFrame'>\n",
      "RangeIndex: 148 entries, 0 to 147\n",
      "Data columns (total 7 columns):\n",
      " #   Column         Non-Null Count  Dtype \n",
      "---  ------         --------------  ----- \n",
      " 0   driver_id      148 non-null    object\n",
      " 1   name           148 non-null    object\n",
      " 2   date_of_birth  148 non-null    object\n",
      " 3   gender         148 non-null    object\n",
      " 4   car_model      148 non-null    object\n",
      " 5   car_make_year  148 non-null    object\n",
      " 6   rating         148 non-null    object\n",
      "dtypes: object(7)\n",
      "memory usage: 8.2+ KB\n"
     ]
    }
   ],
   "source": [
    "driver_data.info()"
   ]
  },
  {
   "cell_type": "code",
   "execution_count": 9,
   "metadata": {},
   "outputs": [
    {
     "name": "stdout",
     "output_type": "stream",
     "text": [
      "<class 'pandas.core.frame.DataFrame'>\n",
      "RangeIndex: 20000 entries, 0 to 19999\n",
      "Data columns (total 3 columns):\n",
      " #   Column        Non-Null Count  Dtype \n",
      "---  ------        --------------  ----- \n",
      " 0   booking_id    20000 non-null  object\n",
      " 1   driver_id     20000 non-null  object\n",
      " 2   safety_label  20000 non-null  object\n",
      "dtypes: object(3)\n",
      "memory usage: 468.9+ KB\n"
     ]
    }
   ],
   "source": [
    "trip_data.info()"
   ]
  },
  {
   "cell_type": "code",
   "execution_count": 10,
   "metadata": {},
   "outputs": [
    {
     "name": "stdout",
     "output_type": "stream",
     "text": [
      "<class 'pandas.core.frame.DataFrame'>\n",
      "Int64Index: 7469656 entries, 0 to 69655\n",
      "Data columns (total 11 columns):\n",
      " #   Column          Dtype  \n",
      "---  ------          -----  \n",
      " 0   booking_id      object \n",
      " 1   accuracy        float64\n",
      " 2   bearing         float64\n",
      " 3   acceleration_x  float64\n",
      " 4   acceleration_y  float64\n",
      " 5   acceleration_z  float64\n",
      " 6   gyro_x          float64\n",
      " 7   gyro_y          float64\n",
      " 8   gyro_z          float64\n",
      " 9   second          float64\n",
      " 10  speed           float64\n",
      "dtypes: float64(10), object(1)\n",
      "memory usage: 683.9+ MB\n"
     ]
    }
   ],
   "source": [
    "sensor_data.info()  "
   ]
  },
  {
   "cell_type": "markdown",
   "metadata": {},
   "source": [
    "# Transform\n",
    "Clean and merge the DataFrames"
   ]
  },
  {
   "cell_type": "markdown",
   "metadata": {},
   "source": [
    "## Remove duplicated data"
   ]
  },
  {
   "cell_type": "code",
   "execution_count": 11,
   "metadata": {},
   "outputs": [],
   "source": [
    "# remove duplicated data from all 3 dataframes\n",
    "driver_data = driver_data.drop_duplicates()\n",
    "trip_data = trip_data.drop_duplicates()\n",
    "sensor_data = sensor_data.drop_duplicates()"
   ]
  },
  {
   "cell_type": "markdown",
   "metadata": {},
   "source": [
    "## Merge dataframes"
   ]
  },
  {
   "cell_type": "code",
   "execution_count": 12,
   "metadata": {},
   "outputs": [
    {
     "name": "stdout",
     "output_type": "stream",
     "text": [
      "Wall time: 4.1 s\n"
     ]
    }
   ],
   "source": [
    "%%time\n",
    "# merge driver and trip data\n",
    "driver_trips = trip_data.merge(driver_data, on='driver_id', how='left')\n",
    "\n",
    "# merge driver_trips and sensor data\n",
    "driver_trips_sensor = sensor_data.merge(driver_trips, on='booking_id', how='left')"
   ]
  },
  {
   "cell_type": "code",
   "execution_count": null,
   "metadata": {},
   "outputs": [],
   "source": []
  }
 ],
 "metadata": {
  "kernelspec": {
   "display_name": "Python 3.9.4 64-bit",
   "language": "python",
   "name": "python3"
  },
  "language_info": {
   "codemirror_mode": {
    "name": "ipython",
    "version": 3
   },
   "file_extension": ".py",
   "mimetype": "text/x-python",
   "name": "python",
   "nbconvert_exporter": "python",
   "pygments_lexer": "ipython3",
   "version": "3.9.4"
  },
  "orig_nbformat": 4,
  "vscode": {
   "interpreter": {
    "hash": "11938c6bc6919ae2720b4d5011047913343b08a43b18698fd82dedb0d4417594"
   }
  }
 },
 "nbformat": 4,
 "nbformat_minor": 2
}
