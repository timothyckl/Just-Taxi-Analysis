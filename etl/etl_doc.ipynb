{
 "cells": [
  {
   "cell_type": "markdown",
   "metadata": {},
   "source": [
    "# ETL Pipeline\n",
    "To load data from SQL into python"
   ]
  },
  {
   "cell_type": "code",
   "execution_count": 5,
   "metadata": {},
   "outputs": [
    {
     "name": "stdout",
     "output_type": "stream",
     "text": [
      "Requirement already satisfied: sqlalchemy in c:\\users\\timothy chia\\appdata\\local\\programs\\python\\python310\\lib\\site-packages (1.4.42)\n",
      "Requirement already satisfied: greenlet!=0.4.17 in c:\\users\\timothy chia\\appdata\\local\\programs\\python\\python310\\lib\\site-packages (from sqlalchemy) (1.1.3.post0)\n"
     ]
    },
    {
     "name": "stderr",
     "output_type": "stream",
     "text": [
      "WARNING: Ignoring invalid distribution -ensorflow-gpu (c:\\users\\timothy chia\\appdata\\local\\programs\\python\\python310\\lib\\site-packages)\n",
      "WARNING: Ignoring invalid distribution -ensorflow-gpu (c:\\users\\timothy chia\\appdata\\local\\programs\\python\\python310\\lib\\site-packages)\n",
      "WARNING: Ignoring invalid distribution -ensorflow-gpu (c:\\users\\timothy chia\\appdata\\local\\programs\\python\\python310\\lib\\site-packages)\n",
      "WARNING: Ignoring invalid distribution -ensorflow-gpu (c:\\users\\timothy chia\\appdata\\local\\programs\\python\\python310\\lib\\site-packages)\n",
      "WARNING: Ignoring invalid distribution -ensorflow-gpu (c:\\users\\timothy chia\\appdata\\local\\programs\\python\\python310\\lib\\site-packages)\n",
      "WARNING: Ignoring invalid distribution -ensorflow-gpu (c:\\users\\timothy chia\\appdata\\local\\programs\\python\\python310\\lib\\site-packages)\n"
     ]
    },
    {
     "name": "stdout",
     "output_type": "stream",
     "text": [
      "Requirement already satisfied: dask in c:\\users\\timothy chia\\appdata\\local\\programs\\python\\python310\\lib\\site-packages (2022.10.1)\n",
      "Requirement already satisfied: packaging>=20.0 in c:\\users\\timothy chia\\appdata\\local\\programs\\python\\python310\\lib\\site-packages (from dask) (21.3)\n",
      "Requirement already satisfied: click>=7.0 in c:\\users\\timothy chia\\appdata\\local\\programs\\python\\python310\\lib\\site-packages (from dask) (8.1.3)\n",
      "Requirement already satisfied: cloudpickle>=1.1.1 in c:\\users\\timothy chia\\appdata\\local\\programs\\python\\python310\\lib\\site-packages (from dask) (2.2.0)\n",
      "Requirement already satisfied: pyyaml>=5.3.1 in c:\\users\\timothy chia\\appdata\\local\\programs\\python\\python310\\lib\\site-packages (from dask) (6.0)\n",
      "Requirement already satisfied: toolz>=0.8.2 in c:\\users\\timothy chia\\appdata\\local\\programs\\python\\python310\\lib\\site-packages (from dask) (0.12.0)\n",
      "Requirement already satisfied: fsspec>=0.6.0 in c:\\users\\timothy chia\\appdata\\local\\programs\\python\\python310\\lib\\site-packages (from dask) (2022.10.0)\n",
      "Requirement already satisfied: partd>=0.3.10 in c:\\users\\timothy chia\\appdata\\local\\programs\\python\\python310\\lib\\site-packages (from dask) (1.3.0)\n",
      "Requirement already satisfied: colorama in c:\\users\\timothy chia\\appdata\\local\\programs\\python\\python310\\lib\\site-packages (from click>=7.0->dask) (0.4.5)\n",
      "Requirement already satisfied: pyparsing!=3.0.5,>=2.0.2 in c:\\users\\timothy chia\\appdata\\local\\programs\\python\\python310\\lib\\site-packages (from packaging>=20.0->dask) (3.0.9)\n",
      "Requirement already satisfied: locket in c:\\users\\timothy chia\\appdata\\local\\programs\\python\\python310\\lib\\site-packages (from partd>=0.3.10->dask) (1.0.0)\n"
     ]
    },
    {
     "name": "stderr",
     "output_type": "stream",
     "text": [
      "WARNING: Ignoring invalid distribution -ensorflow-gpu (c:\\users\\timothy chia\\appdata\\local\\programs\\python\\python310\\lib\\site-packages)\n",
      "WARNING: Ignoring invalid distribution -ensorflow-gpu (c:\\users\\timothy chia\\appdata\\local\\programs\\python\\python310\\lib\\site-packages)\n",
      "WARNING: Ignoring invalid distribution -ensorflow-gpu (c:\\users\\timothy chia\\appdata\\local\\programs\\python\\python310\\lib\\site-packages)\n",
      "WARNING: Ignoring invalid distribution -ensorflow-gpu (c:\\users\\timothy chia\\appdata\\local\\programs\\python\\python310\\lib\\site-packages)\n",
      "WARNING: Ignoring invalid distribution -ensorflow-gpu (c:\\users\\timothy chia\\appdata\\local\\programs\\python\\python310\\lib\\site-packages)\n",
      "WARNING: Ignoring invalid distribution -ensorflow-gpu (c:\\users\\timothy chia\\appdata\\local\\programs\\python\\python310\\lib\\site-packages)\n"
     ]
    },
    {
     "name": "stdout",
     "output_type": "stream",
     "text": [
      "Collecting pyodbc\n",
      "  Downloading pyodbc-4.0.34-cp310-cp310-win_amd64.whl (74 kB)\n",
      "     ---------------------------------------- 74.9/74.9 kB 1.0 MB/s eta 0:00:00\n",
      "Installing collected packages: pyodbc\n",
      "Successfully installed pyodbc-4.0.34\n"
     ]
    },
    {
     "name": "stderr",
     "output_type": "stream",
     "text": [
      "WARNING: Ignoring invalid distribution -ensorflow-gpu (c:\\users\\timothy chia\\appdata\\local\\programs\\python\\python310\\lib\\site-packages)\n",
      "WARNING: Ignoring invalid distribution -ensorflow-gpu (c:\\users\\timothy chia\\appdata\\local\\programs\\python\\python310\\lib\\site-packages)\n",
      "WARNING: Ignoring invalid distribution -ensorflow-gpu (c:\\users\\timothy chia\\appdata\\local\\programs\\python\\python310\\lib\\site-packages)\n",
      "WARNING: Ignoring invalid distribution -ensorflow-gpu (c:\\users\\timothy chia\\appdata\\local\\programs\\python\\python310\\lib\\site-packages)\n",
      "WARNING: Ignoring invalid distribution -ensorflow-gpu (c:\\users\\timothy chia\\appdata\\local\\programs\\python\\python310\\lib\\site-packages)\n",
      "WARNING: Ignoring invalid distribution -ensorflow-gpu (c:\\users\\timothy chia\\appdata\\local\\programs\\python\\python310\\lib\\site-packages)\n",
      "WARNING: Ignoring invalid distribution -ensorflow-gpu (c:\\users\\timothy chia\\appdata\\local\\programs\\python\\python310\\lib\\site-packages)\n"
     ]
    }
   ],
   "source": [
    "!pip install sqlalchemy\n",
    "!pip install dask\n",
    "!pip install pyodbc"
   ]
  },
  {
   "cell_type": "code",
   "execution_count": 3,
   "metadata": {},
   "outputs": [],
   "source": [
    "from sqlalchemy import create_engine\n",
    "import pandas as pd\n",
    "import dask.dataframe as dd"
   ]
  },
  {
   "cell_type": "markdown",
   "metadata": {},
   "source": [
    "# Extract\n",
    "Load all 3 tables from SQL into pandas DataFrames"
   ]
  },
  {
   "cell_type": "code",
   "execution_count": 7,
   "metadata": {},
   "outputs": [
    {
     "name": "stderr",
     "output_type": "stream",
     "text": [
      "14.87s - Error inserting pydevd breaks.\n",
      "Traceback (most recent call last):\n",
      "  File \"c:\\Users\\Timothy Chia\\AppData\\Local\\Programs\\Python\\Python310\\lib\\site-packages\\debugpy\\_vendored\\pydevd\\_pydevd_frame_eval\\pydevd_modify_bytecode.py\", line 328, in insert_pydevd_breaks\n",
      "    for new_instruction in get_instructions_to_add(\n",
      "  File \"c:\\Users\\Timothy Chia\\AppData\\Local\\Programs\\Python\\Python310\\lib\\site-packages\\debugpy\\_vendored\\pydevd\\_pydevd_frame_eval\\pydevd_modify_bytecode.py\", line 102, in get_instructions_to_add\n",
      "    Instr(\"LOAD_CONST\", _pydev_stop_at_break, lineno=stop_at_line - 1),\n",
      "  File \"c:\\Users\\Timothy Chia\\AppData\\Local\\Programs\\Python\\Python310\\lib\\site-packages\\debugpy\\_vendored\\pydevd\\_pydevd_frame_eval\\vendored\\bytecode\\instr.py\", line 171, in __init__\n",
      "    self._set(name, arg, lineno)\n",
      "  File \"c:\\Users\\Timothy Chia\\AppData\\Local\\Programs\\Python\\Python310\\lib\\site-packages\\debugpy\\_vendored\\pydevd\\_pydevd_frame_eval\\vendored\\bytecode\\instr.py\", line 239, in _set\n",
      "    _check_lineno(lineno)\n",
      "  File \"c:\\Users\\Timothy Chia\\AppData\\Local\\Programs\\Python\\Python310\\lib\\site-packages\\debugpy\\_vendored\\pydevd\\_pydevd_frame_eval\\vendored\\bytecode\\instr.py\", line 74, in _check_lineno\n",
      "    raise ValueError(\"invalid lineno\")\n",
      "ValueError: invalid lineno\n"
     ]
    },
    {
     "name": "stdout",
     "output_type": "stream",
     "text": [
      "CPU times: total: 62.5 ms\n",
      "Wall time: 70.5 ms\n"
     ]
    }
   ],
   "source": [
    "%%time\n",
    "\n",
    "# set to your own desktop name\n",
    "pc_name = 'DESKTOP-9552JHN'\n",
    "\n",
    "# connect to MS-SQL\n",
    "server = f\"{pc_name}\\SQLEXPRESS\" # SQL Server Name\n",
    "database = \"JustTaxi\" # database name\n",
    "con_string = f'mssql+pyodbc://{server}/{database}?driver=SQL Server'\n",
    "engine = create_engine(con_string)\n",
    "\n",
    "# retrieve data\n",
    "connection = engine.connect()\n",
    "\n",
    "# driver data\n",
    "drivers = connection.execute('SELECT * FROM drivers')\n",
    "driver_data = pd.DataFrame(data=drivers.fetchall(), columns=drivers.keys())\n",
    "\n",
    "# trip data\n",
    "trips = connection.execute('SELECT * FROM trips')\n",
    "trip_data = pd.DataFrame(data=trips.fetchall(), columns=trips.keys())\n",
    "\n",
    "connection.close() # close connection explicitly"
   ]
  },
  {
   "cell_type": "code",
   "execution_count": 8,
   "metadata": {},
   "outputs": [
    {
     "name": "stdout",
     "output_type": "stream",
     "text": [
      "CPU times: total: 4min 41s\n",
      "Wall time: 4min 43s\n"
     ]
    }
   ],
   "source": [
    "%%time\n",
    "# get sensor data by chunksize\n",
    "# connection = engine.connect().execution_options(stream_results=True)\n",
    "sensor_data_generator = pd.read_sql_query('SELECT * FROM sensor_data', con_string, chunksize=100000)\n",
    "sensor_data = pd.concat([chunk for chunk in sensor_data_generator])"
   ]
  },
  {
   "cell_type": "code",
   "execution_count": 9,
   "metadata": {},
   "outputs": [
    {
     "name": "stdout",
     "output_type": "stream",
     "text": [
      "<class 'pandas.core.frame.DataFrame'>\n",
      "RangeIndex: 148 entries, 0 to 147\n",
      "Data columns (total 7 columns):\n",
      " #   Column         Non-Null Count  Dtype \n",
      "---  ------         --------------  ----- \n",
      " 0   driver_id      148 non-null    object\n",
      " 1   name           148 non-null    object\n",
      " 2   date_of_birth  148 non-null    object\n",
      " 3   gender         148 non-null    object\n",
      " 4   car_model      148 non-null    object\n",
      " 5   car_make_year  148 non-null    object\n",
      " 6   rating         148 non-null    object\n",
      "dtypes: object(7)\n",
      "memory usage: 8.2+ KB\n"
     ]
    }
   ],
   "source": [
    "driver_data.info()"
   ]
  },
  {
   "cell_type": "code",
   "execution_count": 10,
   "metadata": {},
   "outputs": [
    {
     "name": "stdout",
     "output_type": "stream",
     "text": [
      "<class 'pandas.core.frame.DataFrame'>\n",
      "RangeIndex: 20000 entries, 0 to 19999\n",
      "Data columns (total 3 columns):\n",
      " #   Column        Non-Null Count  Dtype \n",
      "---  ------        --------------  ----- \n",
      " 0   booking_id    20000 non-null  object\n",
      " 1   driver_id     20000 non-null  object\n",
      " 2   safety_label  20000 non-null  object\n",
      "dtypes: object(3)\n",
      "memory usage: 468.9+ KB\n"
     ]
    }
   ],
   "source": [
    "trip_data.info()"
   ]
  },
  {
   "cell_type": "code",
   "execution_count": 11,
   "metadata": {},
   "outputs": [
    {
     "name": "stdout",
     "output_type": "stream",
     "text": [
      "<class 'pandas.core.frame.DataFrame'>\n",
      "Int64Index: 7469656 entries, 0 to 69655\n",
      "Data columns (total 11 columns):\n",
      " #   Column          Dtype  \n",
      "---  ------          -----  \n",
      " 0   booking_id      object \n",
      " 1   accuracy        float64\n",
      " 2   bearing         float64\n",
      " 3   acceleration_x  float64\n",
      " 4   acceleration_y  float64\n",
      " 5   acceleration_z  float64\n",
      " 6   gyro_x          float64\n",
      " 7   gyro_y          float64\n",
      " 8   gyro_z          float64\n",
      " 9   second          float64\n",
      " 10  speed           float64\n",
      "dtypes: float64(10), object(1)\n",
      "memory usage: 683.9+ MB\n"
     ]
    }
   ],
   "source": [
    "sensor_data.info()  "
   ]
  },
  {
   "cell_type": "markdown",
   "metadata": {},
   "source": [
    "# Transform\n",
    "Clean and merge the DataFrames"
   ]
  },
  {
   "cell_type": "markdown",
   "metadata": {},
   "source": [
    "## Remove duplicated data"
   ]
  },
  {
   "cell_type": "code",
   "execution_count": 12,
   "metadata": {},
   "outputs": [],
   "source": [
    "# remove duplicated data from all 3 dataframes\n",
    "driver_data = driver_data.drop_duplicates()\n",
    "trip_data = trip_data.drop_duplicates()\n",
    "sensor_data = sensor_data.drop_duplicates()"
   ]
  },
  {
   "cell_type": "markdown",
   "metadata": {},
   "source": [
    "## Merge dataframes"
   ]
  },
  {
   "cell_type": "code",
   "execution_count": 13,
   "metadata": {},
   "outputs": [
    {
     "name": "stdout",
     "output_type": "stream",
     "text": [
      "CPU times: total: 1.67 s\n",
      "Wall time: 1.68 s\n"
     ]
    }
   ],
   "source": [
    "%%time\n",
    "# merge driver and trip data\n",
    "driver_trips = trip_data.merge(driver_data, on='driver_id', how='left')\n",
    "\n",
    "# merge driver_trips and sensor data\n",
    "driver_trips_sensor = sensor_data.merge(driver_trips, on='booking_id', how='left')"
   ]
  },
  {
   "cell_type": "code",
   "execution_count": 14,
   "metadata": {},
   "outputs": [
    {
     "data": {
      "text/html": [
       "<div>\n",
       "<style scoped>\n",
       "    .dataframe tbody tr th:only-of-type {\n",
       "        vertical-align: middle;\n",
       "    }\n",
       "\n",
       "    .dataframe tbody tr th {\n",
       "        vertical-align: top;\n",
       "    }\n",
       "\n",
       "    .dataframe thead th {\n",
       "        text-align: right;\n",
       "    }\n",
       "</style>\n",
       "<table border=\"1\" class=\"dataframe\">\n",
       "  <thead>\n",
       "    <tr style=\"text-align: right;\">\n",
       "      <th></th>\n",
       "      <th>booking_id</th>\n",
       "      <th>accuracy</th>\n",
       "      <th>bearing</th>\n",
       "      <th>acceleration_x</th>\n",
       "      <th>acceleration_y</th>\n",
       "      <th>acceleration_z</th>\n",
       "      <th>gyro_x</th>\n",
       "      <th>gyro_y</th>\n",
       "      <th>gyro_z</th>\n",
       "      <th>second</th>\n",
       "      <th>speed</th>\n",
       "      <th>driver_id</th>\n",
       "      <th>safety_label</th>\n",
       "      <th>name</th>\n",
       "      <th>date_of_birth</th>\n",
       "      <th>gender</th>\n",
       "      <th>car_model</th>\n",
       "      <th>car_make_year</th>\n",
       "      <th>rating</th>\n",
       "    </tr>\n",
       "  </thead>\n",
       "  <tbody>\n",
       "    <tr>\n",
       "      <th>0</th>\n",
       "      <td>0</td>\n",
       "      <td>8.000</td>\n",
       "      <td>143.298294</td>\n",
       "      <td>-1.706207</td>\n",
       "      <td>-9.270792</td>\n",
       "      <td>-1.209448</td>\n",
       "      <td>-0.028965</td>\n",
       "      <td>-0.032652</td>\n",
       "      <td>0.015390</td>\n",
       "      <td>2.0</td>\n",
       "      <td>0.228454</td>\n",
       "      <td>48</td>\n",
       "      <td>0</td>\n",
       "      <td>Lilia</td>\n",
       "      <td>1974-08-13</td>\n",
       "      <td>Male</td>\n",
       "      <td>Mercedes-Benz</td>\n",
       "      <td>2013-01-01</td>\n",
       "      <td>4.0</td>\n",
       "    </tr>\n",
       "    <tr>\n",
       "      <th>1</th>\n",
       "      <td>0</td>\n",
       "      <td>8.000</td>\n",
       "      <td>143.298294</td>\n",
       "      <td>-1.416705</td>\n",
       "      <td>-9.548032</td>\n",
       "      <td>-1.860977</td>\n",
       "      <td>-0.022413</td>\n",
       "      <td>0.005049</td>\n",
       "      <td>-0.025753</td>\n",
       "      <td>3.0</td>\n",
       "      <td>0.228454</td>\n",
       "      <td>48</td>\n",
       "      <td>0</td>\n",
       "      <td>Lilia</td>\n",
       "      <td>1974-08-13</td>\n",
       "      <td>Male</td>\n",
       "      <td>Mercedes-Benz</td>\n",
       "      <td>2013-01-01</td>\n",
       "      <td>4.0</td>\n",
       "    </tr>\n",
       "    <tr>\n",
       "      <th>2</th>\n",
       "      <td>0</td>\n",
       "      <td>8.000</td>\n",
       "      <td>143.298294</td>\n",
       "      <td>-0.346924</td>\n",
       "      <td>-9.532629</td>\n",
       "      <td>-1.204663</td>\n",
       "      <td>0.014962</td>\n",
       "      <td>-0.050033</td>\n",
       "      <td>0.025118</td>\n",
       "      <td>9.0</td>\n",
       "      <td>0.228454</td>\n",
       "      <td>48</td>\n",
       "      <td>0</td>\n",
       "      <td>Lilia</td>\n",
       "      <td>1974-08-13</td>\n",
       "      <td>Male</td>\n",
       "      <td>Mercedes-Benz</td>\n",
       "      <td>2013-01-01</td>\n",
       "      <td>4.0</td>\n",
       "    </tr>\n",
       "    <tr>\n",
       "      <th>3</th>\n",
       "      <td>0</td>\n",
       "      <td>8.000</td>\n",
       "      <td>143.298294</td>\n",
       "      <td>-0.600986</td>\n",
       "      <td>-9.452029</td>\n",
       "      <td>-2.157507</td>\n",
       "      <td>0.004548</td>\n",
       "      <td>-0.011713</td>\n",
       "      <td>-0.004078</td>\n",
       "      <td>11.0</td>\n",
       "      <td>0.228454</td>\n",
       "      <td>48</td>\n",
       "      <td>0</td>\n",
       "      <td>Lilia</td>\n",
       "      <td>1974-08-13</td>\n",
       "      <td>Male</td>\n",
       "      <td>Mercedes-Benz</td>\n",
       "      <td>2013-01-01</td>\n",
       "      <td>4.0</td>\n",
       "    </tr>\n",
       "    <tr>\n",
       "      <th>4</th>\n",
       "      <td>0</td>\n",
       "      <td>8.000</td>\n",
       "      <td>143.298294</td>\n",
       "      <td>-0.597546</td>\n",
       "      <td>-9.863403</td>\n",
       "      <td>-1.672711</td>\n",
       "      <td>-0.000401</td>\n",
       "      <td>0.000315</td>\n",
       "      <td>-0.009830</td>\n",
       "      <td>12.0</td>\n",
       "      <td>0.228454</td>\n",
       "      <td>48</td>\n",
       "      <td>0</td>\n",
       "      <td>Lilia</td>\n",
       "      <td>1974-08-13</td>\n",
       "      <td>Male</td>\n",
       "      <td>Mercedes-Benz</td>\n",
       "      <td>2013-01-01</td>\n",
       "      <td>4.0</td>\n",
       "    </tr>\n",
       "    <tr>\n",
       "      <th>...</th>\n",
       "      <td>...</td>\n",
       "      <td>...</td>\n",
       "      <td>...</td>\n",
       "      <td>...</td>\n",
       "      <td>...</td>\n",
       "      <td>...</td>\n",
       "      <td>...</td>\n",
       "      <td>...</td>\n",
       "      <td>...</td>\n",
       "      <td>...</td>\n",
       "      <td>...</td>\n",
       "      <td>...</td>\n",
       "      <td>...</td>\n",
       "      <td>...</td>\n",
       "      <td>...</td>\n",
       "      <td>...</td>\n",
       "      <td>...</td>\n",
       "      <td>...</td>\n",
       "      <td>...</td>\n",
       "    </tr>\n",
       "    <tr>\n",
       "      <th>7469651</th>\n",
       "      <td>996432412828</td>\n",
       "      <td>3.712</td>\n",
       "      <td>87.000000</td>\n",
       "      <td>-1.908237</td>\n",
       "      <td>8.988108</td>\n",
       "      <td>2.710319</td>\n",
       "      <td>-0.105388</td>\n",
       "      <td>0.442492</td>\n",
       "      <td>0.058795</td>\n",
       "      <td>1538.0</td>\n",
       "      <td>3.574830</td>\n",
       "      <td>24</td>\n",
       "      <td>1</td>\n",
       "      <td>Sephira</td>\n",
       "      <td>1991-08-27</td>\n",
       "      <td>Male</td>\n",
       "      <td>Chevrolet</td>\n",
       "      <td>2008-01-01</td>\n",
       "      <td>3.5</td>\n",
       "    </tr>\n",
       "    <tr>\n",
       "      <th>7469652</th>\n",
       "      <td>996432412828</td>\n",
       "      <td>3.649</td>\n",
       "      <td>64.000000</td>\n",
       "      <td>-0.909824</td>\n",
       "      <td>8.722343</td>\n",
       "      <td>2.320052</td>\n",
       "      <td>-0.120659</td>\n",
       "      <td>0.332536</td>\n",
       "      <td>0.089949</td>\n",
       "      <td>1539.0</td>\n",
       "      <td>3.235918</td>\n",
       "      <td>24</td>\n",
       "      <td>1</td>\n",
       "      <td>Sephira</td>\n",
       "      <td>1991-08-27</td>\n",
       "      <td>Male</td>\n",
       "      <td>Chevrolet</td>\n",
       "      <td>2008-01-01</td>\n",
       "      <td>3.5</td>\n",
       "    </tr>\n",
       "    <tr>\n",
       "      <th>7469653</th>\n",
       "      <td>996432412828</td>\n",
       "      <td>3.462</td>\n",
       "      <td>42.000000</td>\n",
       "      <td>-2.490046</td>\n",
       "      <td>9.490906</td>\n",
       "      <td>-0.502798</td>\n",
       "      <td>0.061379</td>\n",
       "      <td>0.327038</td>\n",
       "      <td>0.042912</td>\n",
       "      <td>1540.0</td>\n",
       "      <td>2.388671</td>\n",
       "      <td>24</td>\n",
       "      <td>1</td>\n",
       "      <td>Sephira</td>\n",
       "      <td>1991-08-27</td>\n",
       "      <td>Male</td>\n",
       "      <td>Chevrolet</td>\n",
       "      <td>2008-01-01</td>\n",
       "      <td>3.5</td>\n",
       "    </tr>\n",
       "    <tr>\n",
       "      <th>7469654</th>\n",
       "      <td>996432412828</td>\n",
       "      <td>3.620</td>\n",
       "      <td>3.000000</td>\n",
       "      <td>-1.498816</td>\n",
       "      <td>10.146936</td>\n",
       "      <td>-0.668003</td>\n",
       "      <td>0.135293</td>\n",
       "      <td>0.243350</td>\n",
       "      <td>0.093003</td>\n",
       "      <td>1542.0</td>\n",
       "      <td>3.794280</td>\n",
       "      <td>24</td>\n",
       "      <td>1</td>\n",
       "      <td>Sephira</td>\n",
       "      <td>1991-08-27</td>\n",
       "      <td>Male</td>\n",
       "      <td>Chevrolet</td>\n",
       "      <td>2008-01-01</td>\n",
       "      <td>3.5</td>\n",
       "    </tr>\n",
       "    <tr>\n",
       "      <th>7469655</th>\n",
       "      <td>996432412828</td>\n",
       "      <td>3.900</td>\n",
       "      <td>356.000000</td>\n",
       "      <td>-2.209916</td>\n",
       "      <td>9.962578</td>\n",
       "      <td>1.616135</td>\n",
       "      <td>-0.021088</td>\n",
       "      <td>0.009999</td>\n",
       "      <td>-0.021840</td>\n",
       "      <td>1543.0</td>\n",
       "      <td>4.811907</td>\n",
       "      <td>24</td>\n",
       "      <td>1</td>\n",
       "      <td>Sephira</td>\n",
       "      <td>1991-08-27</td>\n",
       "      <td>Male</td>\n",
       "      <td>Chevrolet</td>\n",
       "      <td>2008-01-01</td>\n",
       "      <td>3.5</td>\n",
       "    </tr>\n",
       "  </tbody>\n",
       "</table>\n",
       "<p>7469656 rows × 19 columns</p>\n",
       "</div>"
      ],
      "text/plain": [
       "           booking_id  accuracy     bearing  acceleration_x  acceleration_y  \\\n",
       "0                   0     8.000  143.298294       -1.706207       -9.270792   \n",
       "1                   0     8.000  143.298294       -1.416705       -9.548032   \n",
       "2                   0     8.000  143.298294       -0.346924       -9.532629   \n",
       "3                   0     8.000  143.298294       -0.600986       -9.452029   \n",
       "4                   0     8.000  143.298294       -0.597546       -9.863403   \n",
       "...               ...       ...         ...             ...             ...   \n",
       "7469651  996432412828     3.712   87.000000       -1.908237        8.988108   \n",
       "7469652  996432412828     3.649   64.000000       -0.909824        8.722343   \n",
       "7469653  996432412828     3.462   42.000000       -2.490046        9.490906   \n",
       "7469654  996432412828     3.620    3.000000       -1.498816       10.146936   \n",
       "7469655  996432412828     3.900  356.000000       -2.209916        9.962578   \n",
       "\n",
       "         acceleration_z    gyro_x    gyro_y    gyro_z  second     speed  \\\n",
       "0             -1.209448 -0.028965 -0.032652  0.015390     2.0  0.228454   \n",
       "1             -1.860977 -0.022413  0.005049 -0.025753     3.0  0.228454   \n",
       "2             -1.204663  0.014962 -0.050033  0.025118     9.0  0.228454   \n",
       "3             -2.157507  0.004548 -0.011713 -0.004078    11.0  0.228454   \n",
       "4             -1.672711 -0.000401  0.000315 -0.009830    12.0  0.228454   \n",
       "...                 ...       ...       ...       ...     ...       ...   \n",
       "7469651        2.710319 -0.105388  0.442492  0.058795  1538.0  3.574830   \n",
       "7469652        2.320052 -0.120659  0.332536  0.089949  1539.0  3.235918   \n",
       "7469653       -0.502798  0.061379  0.327038  0.042912  1540.0  2.388671   \n",
       "7469654       -0.668003  0.135293  0.243350  0.093003  1542.0  3.794280   \n",
       "7469655        1.616135 -0.021088  0.009999 -0.021840  1543.0  4.811907   \n",
       "\n",
       "        driver_id safety_label     name date_of_birth gender      car_model  \\\n",
       "0              48            0    Lilia    1974-08-13   Male  Mercedes-Benz   \n",
       "1              48            0    Lilia    1974-08-13   Male  Mercedes-Benz   \n",
       "2              48            0    Lilia    1974-08-13   Male  Mercedes-Benz   \n",
       "3              48            0    Lilia    1974-08-13   Male  Mercedes-Benz   \n",
       "4              48            0    Lilia    1974-08-13   Male  Mercedes-Benz   \n",
       "...           ...          ...      ...           ...    ...            ...   \n",
       "7469651        24            1  Sephira    1991-08-27   Male      Chevrolet   \n",
       "7469652        24            1  Sephira    1991-08-27   Male      Chevrolet   \n",
       "7469653        24            1  Sephira    1991-08-27   Male      Chevrolet   \n",
       "7469654        24            1  Sephira    1991-08-27   Male      Chevrolet   \n",
       "7469655        24            1  Sephira    1991-08-27   Male      Chevrolet   \n",
       "\n",
       "        car_make_year rating  \n",
       "0          2013-01-01    4.0  \n",
       "1          2013-01-01    4.0  \n",
       "2          2013-01-01    4.0  \n",
       "3          2013-01-01    4.0  \n",
       "4          2013-01-01    4.0  \n",
       "...               ...    ...  \n",
       "7469651    2008-01-01    3.5  \n",
       "7469652    2008-01-01    3.5  \n",
       "7469653    2008-01-01    3.5  \n",
       "7469654    2008-01-01    3.5  \n",
       "7469655    2008-01-01    3.5  \n",
       "\n",
       "[7469656 rows x 19 columns]"
      ]
     },
     "execution_count": 14,
     "metadata": {},
     "output_type": "execute_result"
    }
   ],
   "source": [
    "driver_trips_sensor"
   ]
  }
 ],
 "metadata": {
  "kernelspec": {
   "display_name": "Python 3.10.5 64-bit",
   "language": "python",
   "name": "python3"
  },
  "language_info": {
   "codemirror_mode": {
    "name": "ipython",
    "version": 3
   },
   "file_extension": ".py",
   "mimetype": "text/x-python",
   "name": "python",
   "nbconvert_exporter": "python",
   "pygments_lexer": "ipython3",
   "version": "3.10.5"
  },
  "orig_nbformat": 4,
  "vscode": {
   "interpreter": {
    "hash": "cbb20fadfa16e03ebe385758df0b196997ed807c890aaec95b326082f430e8b1"
   }
  }
 },
 "nbformat": 4,
 "nbformat_minor": 2
}
