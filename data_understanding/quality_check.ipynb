{
 "cells": [
  {
   "cell_type": "markdown",
   "metadata": {},
   "source": [
    "# Verifying Data Quality\n",
    "This process is needed to check if data has any problems. This step is required before inserting data into the database. There are 7 datasets in total.\n",
    "\n",
    "Things to check:\n",
    "* Are there any duplicates in the data?\n",
    "* Are any of the data in incorrect format?\n",
    "* Do all the data have the same columns? (for sensor data)\n",
    "* Do all data in each column have the same datatype across all 5 sensor datasets?\n",
    "* Is `id` unique for driver_data?\n",
    "* Is `bookingID`/`driver_id` unique for safety_labels?\n",
    "* Is `bookingID` unique for sensor_data?"
   ]
  },
  {
   "cell_type": "code",
   "execution_count": 1,
   "metadata": {},
   "outputs": [],
   "source": [
    "import numpy as np\n",
    "import pandas as pd"
   ]
  },
  {
   "cell_type": "code",
   "execution_count": 2,
   "metadata": {},
   "outputs": [
    {
     "name": "stdout",
     "output_type": "stream",
     "text": [
      "<class 'pandas.core.frame.DataFrame'>\n",
      "RangeIndex: 148 entries, 0 to 147\n",
      "Data columns (total 7 columns):\n",
      " #   Column         Non-Null Count  Dtype  \n",
      "---  ------         --------------  -----  \n",
      " 0   id             148 non-null    int64  \n",
      " 1   name           148 non-null    object \n",
      " 2   date_of_birth  148 non-null    object \n",
      " 3   gender         148 non-null    object \n",
      " 4   car_model      148 non-null    object \n",
      " 5   car_make_year  148 non-null    int64  \n",
      " 6   rating         148 non-null    float64\n",
      "dtypes: float64(1), int64(2), object(4)\n",
      "memory usage: 8.2+ KB\n"
     ]
    }
   ],
   "source": [
    "driver_data = pd.read_csv('..\\data\\driver_data.csv')\n",
    "driver_data.info()"
   ]
  },
  {
   "cell_type": "code",
   "execution_count": 31,
   "metadata": {},
   "outputs": [
    {
     "data": {
      "text/html": [
       "<div>\n",
       "<style scoped>\n",
       "    .dataframe tbody tr th:only-of-type {\n",
       "        vertical-align: middle;\n",
       "    }\n",
       "\n",
       "    .dataframe tbody tr th {\n",
       "        vertical-align: top;\n",
       "    }\n",
       "\n",
       "    .dataframe thead th {\n",
       "        text-align: right;\n",
       "    }\n",
       "</style>\n",
       "<table border=\"1\" class=\"dataframe\">\n",
       "  <thead>\n",
       "    <tr style=\"text-align: right;\">\n",
       "      <th></th>\n",
       "      <th>id</th>\n",
       "      <th>name</th>\n",
       "      <th>date_of_birth</th>\n",
       "      <th>gender</th>\n",
       "      <th>car_model</th>\n",
       "      <th>car_make_year</th>\n",
       "      <th>rating</th>\n",
       "    </tr>\n",
       "  </thead>\n",
       "  <tbody>\n",
       "    <tr>\n",
       "      <th>0</th>\n",
       "      <td>1</td>\n",
       "      <td>Tressa</td>\n",
       "      <td>1/12/1992</td>\n",
       "      <td>Female</td>\n",
       "      <td>Mazda</td>\n",
       "      <td>2011</td>\n",
       "      <td>4.5</td>\n",
       "    </tr>\n",
       "    <tr>\n",
       "      <th>1</th>\n",
       "      <td>2</td>\n",
       "      <td>Virgilio</td>\n",
       "      <td>10/23/1992</td>\n",
       "      <td>Male</td>\n",
       "      <td>Mazda</td>\n",
       "      <td>2004</td>\n",
       "      <td>3.5</td>\n",
       "    </tr>\n",
       "    <tr>\n",
       "      <th>2</th>\n",
       "      <td>3</td>\n",
       "      <td>Bert</td>\n",
       "      <td>8/10/1989</td>\n",
       "      <td>Male</td>\n",
       "      <td>Nissan</td>\n",
       "      <td>2008</td>\n",
       "      <td>4.5</td>\n",
       "    </tr>\n",
       "    <tr>\n",
       "      <th>3</th>\n",
       "      <td>4</td>\n",
       "      <td>Mahmoud</td>\n",
       "      <td>8/14/1981</td>\n",
       "      <td>Male</td>\n",
       "      <td>Toyota</td>\n",
       "      <td>2008</td>\n",
       "      <td>4.5</td>\n",
       "    </tr>\n",
       "    <tr>\n",
       "      <th>4</th>\n",
       "      <td>5</td>\n",
       "      <td>Felecia</td>\n",
       "      <td>7/20/1990</td>\n",
       "      <td>Female</td>\n",
       "      <td>Hyundai</td>\n",
       "      <td>2010</td>\n",
       "      <td>4.5</td>\n",
       "    </tr>\n",
       "  </tbody>\n",
       "</table>\n",
       "</div>"
      ],
      "text/plain": [
       "   id      name date_of_birth  gender car_model  car_make_year  rating\n",
       "0   1    Tressa     1/12/1992  Female     Mazda           2011     4.5\n",
       "1   2  Virgilio    10/23/1992    Male     Mazda           2004     3.5\n",
       "2   3      Bert     8/10/1989    Male    Nissan           2008     4.5\n",
       "3   4   Mahmoud     8/14/1981    Male    Toyota           2008     4.5\n",
       "4   5   Felecia     7/20/1990  Female   Hyundai           2010     4.5"
      ]
     },
     "execution_count": 31,
     "metadata": {},
     "output_type": "execute_result"
    }
   ],
   "source": [
    "driver_data.head()"
   ]
  },
  {
   "cell_type": "code",
   "execution_count": 3,
   "metadata": {},
   "outputs": [
    {
     "name": "stdout",
     "output_type": "stream",
     "text": [
      "<class 'pandas.core.frame.DataFrame'>\n",
      "RangeIndex: 20000 entries, 0 to 19999\n",
      "Data columns (total 3 columns):\n",
      " #   Column     Non-Null Count  Dtype\n",
      "---  ------     --------------  -----\n",
      " 0   bookingID  20000 non-null  int64\n",
      " 1   driver_id  20000 non-null  int64\n",
      " 2   label      20000 non-null  int64\n",
      "dtypes: int64(3)\n",
      "memory usage: 468.9 KB\n"
     ]
    }
   ],
   "source": [
    "safety_labels = pd.read_csv('..\\data\\safety_labels.csv')\n",
    "safety_labels.info()"
   ]
  },
  {
   "cell_type": "code",
   "execution_count": 32,
   "metadata": {},
   "outputs": [
    {
     "data": {
      "text/html": [
       "<div>\n",
       "<style scoped>\n",
       "    .dataframe tbody tr th:only-of-type {\n",
       "        vertical-align: middle;\n",
       "    }\n",
       "\n",
       "    .dataframe tbody tr th {\n",
       "        vertical-align: top;\n",
       "    }\n",
       "\n",
       "    .dataframe thead th {\n",
       "        text-align: right;\n",
       "    }\n",
       "</style>\n",
       "<table border=\"1\" class=\"dataframe\">\n",
       "  <thead>\n",
       "    <tr style=\"text-align: right;\">\n",
       "      <th></th>\n",
       "      <th>bookingID</th>\n",
       "      <th>driver_id</th>\n",
       "      <th>label</th>\n",
       "    </tr>\n",
       "  </thead>\n",
       "  <tbody>\n",
       "    <tr>\n",
       "      <th>0</th>\n",
       "      <td>111669149733</td>\n",
       "      <td>140</td>\n",
       "      <td>0</td>\n",
       "    </tr>\n",
       "    <tr>\n",
       "      <th>1</th>\n",
       "      <td>335007449205</td>\n",
       "      <td>15</td>\n",
       "      <td>1</td>\n",
       "    </tr>\n",
       "    <tr>\n",
       "      <th>2</th>\n",
       "      <td>171798691856</td>\n",
       "      <td>61</td>\n",
       "      <td>0</td>\n",
       "    </tr>\n",
       "    <tr>\n",
       "      <th>3</th>\n",
       "      <td>1520418422900</td>\n",
       "      <td>97</td>\n",
       "      <td>0</td>\n",
       "    </tr>\n",
       "    <tr>\n",
       "      <th>4</th>\n",
       "      <td>798863917116</td>\n",
       "      <td>92</td>\n",
       "      <td>0</td>\n",
       "    </tr>\n",
       "  </tbody>\n",
       "</table>\n",
       "</div>"
      ],
      "text/plain": [
       "       bookingID  driver_id  label\n",
       "0   111669149733        140      0\n",
       "1   335007449205         15      1\n",
       "2   171798691856         61      0\n",
       "3  1520418422900         97      0\n",
       "4   798863917116         92      0"
      ]
     },
     "execution_count": 32,
     "metadata": {},
     "output_type": "execute_result"
    }
   ],
   "source": [
    "safety_labels.head()"
   ]
  },
  {
   "cell_type": "code",
   "execution_count": 4,
   "metadata": {},
   "outputs": [],
   "source": [
    "sensor1 = pd.read_csv('..\\data\\sensor_data\\sensor_data_part-1.csv')\n",
    "sensor2 = pd.read_csv('..\\data\\sensor_data\\sensor_data_part-2.csv')\n",
    "sensor3 = pd.read_csv('..\\data\\sensor_data\\sensor_data_part-3.csv')\n",
    "sensor4 = pd.read_csv('..\\data\\sensor_data\\sensor_data_part-4.csv')\n",
    "sensor5 = pd.read_csv('..\\data\\sensor_data\\sensor_data_part-5.csv')"
   ]
  },
  {
   "cell_type": "code",
   "execution_count": 5,
   "metadata": {},
   "outputs": [
    {
     "name": "stdout",
     "output_type": "stream",
     "text": [
      "<class 'pandas.core.frame.DataFrame'>\n",
      "RangeIndex: 1613554 entries, 0 to 1613553\n",
      "Data columns (total 11 columns):\n",
      " #   Column          Non-Null Count    Dtype  \n",
      "---  ------          --------------    -----  \n",
      " 0   bookingID       1613554 non-null  int64  \n",
      " 1   Accuracy        1549012 non-null  float64\n",
      " 2   Bearing         1549012 non-null  float64\n",
      " 3   acceleration_x  1581283 non-null  float64\n",
      " 4   acceleration_y  1581283 non-null  float64\n",
      " 5   acceleration_z  1549012 non-null  float64\n",
      " 6   gyro_x          1565147 non-null  float64\n",
      " 7   gyro_y          1597418 non-null  float64\n",
      " 8   gyro_z          1613554 non-null  float64\n",
      " 9   second          1613554 non-null  float64\n",
      " 10  Speed           1565147 non-null  float64\n",
      "dtypes: float64(10), int64(1)\n",
      "memory usage: 135.4 MB\n"
     ]
    }
   ],
   "source": [
    "sensor1.info()"
   ]
  },
  {
   "cell_type": "code",
   "execution_count": 63,
   "metadata": {},
   "outputs": [
    {
     "data": {
      "text/plain": [
       "6.4751715e-05"
      ]
     },
     "execution_count": 63,
     "metadata": {},
     "output_type": "execute_result"
    }
   ],
   "source": [
    "sensor1.iloc[33,8]"
   ]
  },
  {
   "cell_type": "code",
   "execution_count": 34,
   "metadata": {},
   "outputs": [
    {
     "data": {
      "text/html": [
       "<div>\n",
       "<style scoped>\n",
       "    .dataframe tbody tr th:only-of-type {\n",
       "        vertical-align: middle;\n",
       "    }\n",
       "\n",
       "    .dataframe tbody tr th {\n",
       "        vertical-align: top;\n",
       "    }\n",
       "\n",
       "    .dataframe thead th {\n",
       "        text-align: right;\n",
       "    }\n",
       "</style>\n",
       "<table border=\"1\" class=\"dataframe\">\n",
       "  <thead>\n",
       "    <tr style=\"text-align: right;\">\n",
       "      <th></th>\n",
       "      <th>bookingID</th>\n",
       "      <th>Accuracy</th>\n",
       "      <th>Bearing</th>\n",
       "      <th>acceleration_x</th>\n",
       "      <th>acceleration_y</th>\n",
       "      <th>acceleration_z</th>\n",
       "      <th>gyro_x</th>\n",
       "      <th>gyro_y</th>\n",
       "      <th>gyro_z</th>\n",
       "      <th>second</th>\n",
       "      <th>Speed</th>\n",
       "    </tr>\n",
       "  </thead>\n",
       "  <tbody>\n",
       "    <tr>\n",
       "      <th>0</th>\n",
       "      <td>1202590843006</td>\n",
       "      <td>3.000</td>\n",
       "      <td>353.0</td>\n",
       "      <td>1.228867</td>\n",
       "      <td>8.900100</td>\n",
       "      <td>3.986968</td>\n",
       "      <td>0.008221</td>\n",
       "      <td>0.002269</td>\n",
       "      <td>-0.009966</td>\n",
       "      <td>1362.0</td>\n",
       "      <td>0.000000</td>\n",
       "    </tr>\n",
       "    <tr>\n",
       "      <th>1</th>\n",
       "      <td>274877907034</td>\n",
       "      <td>9.293</td>\n",
       "      <td>17.0</td>\n",
       "      <td>0.032775</td>\n",
       "      <td>8.659933</td>\n",
       "      <td>4.737300</td>\n",
       "      <td>0.024629</td>\n",
       "      <td>0.004028</td>\n",
       "      <td>-0.010858</td>\n",
       "      <td>257.0</td>\n",
       "      <td>0.190000</td>\n",
       "    </tr>\n",
       "    <tr>\n",
       "      <th>2</th>\n",
       "      <td>884763263056</td>\n",
       "      <td>3.000</td>\n",
       "      <td>189.0</td>\n",
       "      <td>1.139675</td>\n",
       "      <td>9.545974</td>\n",
       "      <td>1.951334</td>\n",
       "      <td>-0.006899</td>\n",
       "      <td>-0.015080</td>\n",
       "      <td>0.001122</td>\n",
       "      <td>973.0</td>\n",
       "      <td>0.667059</td>\n",
       "    </tr>\n",
       "    <tr>\n",
       "      <th>3</th>\n",
       "      <td>1073741824054</td>\n",
       "      <td>3.900</td>\n",
       "      <td>126.0</td>\n",
       "      <td>3.871542</td>\n",
       "      <td>10.386364</td>\n",
       "      <td>-0.136474</td>\n",
       "      <td>0.001344</td>\n",
       "      <td>-0.339601</td>\n",
       "      <td>-0.017956</td>\n",
       "      <td>902.0</td>\n",
       "      <td>7.913285</td>\n",
       "    </tr>\n",
       "    <tr>\n",
       "      <th>4</th>\n",
       "      <td>1056561954943</td>\n",
       "      <td>3.900</td>\n",
       "      <td>50.0</td>\n",
       "      <td>-0.112882</td>\n",
       "      <td>10.550960</td>\n",
       "      <td>-1.560110</td>\n",
       "      <td>0.130568</td>\n",
       "      <td>-0.061697</td>\n",
       "      <td>0.161530</td>\n",
       "      <td>820.0</td>\n",
       "      <td>20.419409</td>\n",
       "    </tr>\n",
       "  </tbody>\n",
       "</table>\n",
       "</div>"
      ],
      "text/plain": [
       "       bookingID  Accuracy  Bearing  acceleration_x  acceleration_y  \\\n",
       "0  1202590843006     3.000    353.0        1.228867        8.900100   \n",
       "1   274877907034     9.293     17.0        0.032775        8.659933   \n",
       "2   884763263056     3.000    189.0        1.139675        9.545974   \n",
       "3  1073741824054     3.900    126.0        3.871542       10.386364   \n",
       "4  1056561954943     3.900     50.0       -0.112882       10.550960   \n",
       "\n",
       "   acceleration_z    gyro_x    gyro_y    gyro_z  second      Speed  \n",
       "0        3.986968  0.008221  0.002269 -0.009966  1362.0   0.000000  \n",
       "1        4.737300  0.024629  0.004028 -0.010858   257.0   0.190000  \n",
       "2        1.951334 -0.006899 -0.015080  0.001122   973.0   0.667059  \n",
       "3       -0.136474  0.001344 -0.339601 -0.017956   902.0   7.913285  \n",
       "4       -1.560110  0.130568 -0.061697  0.161530   820.0  20.419409  "
      ]
     },
     "execution_count": 34,
     "metadata": {},
     "output_type": "execute_result"
    }
   ],
   "source": [
    "sensor1.head()"
   ]
  },
  {
   "cell_type": "markdown",
   "metadata": {},
   "source": [
    "## Duplicates Check\n",
    "For driver_data and safety_labels only"
   ]
  },
  {
   "cell_type": "code",
   "execution_count": 6,
   "metadata": {},
   "outputs": [
    {
     "data": {
      "text/plain": [
       "0"
      ]
     },
     "execution_count": 6,
     "metadata": {},
     "output_type": "execute_result"
    }
   ],
   "source": [
    "# check for duplicates in driver_data\n",
    "driver_data[driver_data.duplicated()].shape[0]"
   ]
  },
  {
   "cell_type": "code",
   "execution_count": 7,
   "metadata": {},
   "outputs": [
    {
     "data": {
      "text/plain": [
       "0"
      ]
     },
     "execution_count": 7,
     "metadata": {},
     "output_type": "execute_result"
    }
   ],
   "source": [
    "# check for duplicates in safety_labels\n",
    "safety_labels[safety_labels.duplicated()].shape[0]"
   ]
  },
  {
   "cell_type": "markdown",
   "metadata": {},
   "source": [
    "<b>Results: </b>\n",
    "\n",
    "There are no duplicates in driver and safety datasets"
   ]
  },
  {
   "cell_type": "markdown",
   "metadata": {},
   "source": [
    "## Sensor data Column consistency check\n",
    "Check if column names are named differently in different sensor datasets"
   ]
  },
  {
   "cell_type": "code",
   "execution_count": 9,
   "metadata": {},
   "outputs": [
    {
     "name": "stdout",
     "output_type": "stream",
     "text": [
      "Any different columns (1 and 2): False\n",
      "Any different columns (1 and 3): False\n",
      "Any different columns (1 and 4): False\n",
      "Any different columns (1 and 5): False\n"
     ]
    }
   ],
   "source": [
    "# check if column names are the same in all 5 sensor data (using sensor1 as reference)\n",
    "print(f\"Any different columns (1 and 2): {np.any((sensor1.columns == sensor2.columns) == False)}\")\n",
    "print(f\"Any different columns (1 and 3): {np.any((sensor1.columns == sensor3.columns) == False)}\")\n",
    "print(f\"Any different columns (1 and 4): {np.any((sensor1.columns == sensor4.columns) == False)}\")\n",
    "print(f\"Any different columns (1 and 5): {np.any((sensor1.columns == sensor5.columns) == False)}\")"
   ]
  },
  {
   "cell_type": "markdown",
   "metadata": {},
   "source": [
    "<b>Results: </b>\n",
    "\n",
    "Column names and count are all consistent throughout the 5 sensor datasets"
   ]
  },
  {
   "cell_type": "markdown",
   "metadata": {},
   "source": [
    "## Sensor data datatype consistency check\n",
    "Using sensor1 as benchmark, check if all the other 4 sensor datasets have the same datatype for each column"
   ]
  },
  {
   "cell_type": "code",
   "execution_count": 10,
   "metadata": {},
   "outputs": [
    {
     "data": {
      "text/plain": [
       "bookingID         True\n",
       "Accuracy          True\n",
       "Bearing           True\n",
       "acceleration_x    True\n",
       "acceleration_y    True\n",
       "acceleration_z    True\n",
       "gyro_x            True\n",
       "gyro_y            True\n",
       "gyro_z            True\n",
       "second            True\n",
       "Speed             True\n",
       "dtype: bool"
      ]
     },
     "execution_count": 10,
     "metadata": {},
     "output_type": "execute_result"
    }
   ],
   "source": [
    "sensor1.dtypes == sensor2.dtypes"
   ]
  },
  {
   "cell_type": "code",
   "execution_count": 11,
   "metadata": {},
   "outputs": [
    {
     "data": {
      "text/plain": [
       "bookingID         True\n",
       "Accuracy          True\n",
       "Bearing           True\n",
       "acceleration_x    True\n",
       "acceleration_y    True\n",
       "acceleration_z    True\n",
       "gyro_x            True\n",
       "gyro_y            True\n",
       "gyro_z            True\n",
       "second            True\n",
       "Speed             True\n",
       "dtype: bool"
      ]
     },
     "execution_count": 11,
     "metadata": {},
     "output_type": "execute_result"
    }
   ],
   "source": [
    "sensor1.dtypes == sensor3.dtypes"
   ]
  },
  {
   "cell_type": "code",
   "execution_count": 12,
   "metadata": {},
   "outputs": [
    {
     "data": {
      "text/plain": [
       "bookingID         True\n",
       "Accuracy          True\n",
       "Bearing           True\n",
       "acceleration_x    True\n",
       "acceleration_y    True\n",
       "acceleration_z    True\n",
       "gyro_x            True\n",
       "gyro_y            True\n",
       "gyro_z            True\n",
       "second            True\n",
       "Speed             True\n",
       "dtype: bool"
      ]
     },
     "execution_count": 12,
     "metadata": {},
     "output_type": "execute_result"
    }
   ],
   "source": [
    "sensor1.dtypes == sensor4.dtypes"
   ]
  },
  {
   "cell_type": "code",
   "execution_count": 13,
   "metadata": {},
   "outputs": [
    {
     "data": {
      "text/plain": [
       "bookingID         True\n",
       "Accuracy          True\n",
       "Bearing           True\n",
       "acceleration_x    True\n",
       "acceleration_y    True\n",
       "acceleration_z    True\n",
       "gyro_x            True\n",
       "gyro_y            True\n",
       "gyro_z            True\n",
       "second            True\n",
       "Speed             True\n",
       "dtype: bool"
      ]
     },
     "execution_count": 13,
     "metadata": {},
     "output_type": "execute_result"
    }
   ],
   "source": [
    "sensor1.dtypes == sensor5.dtypes"
   ]
  },
  {
   "cell_type": "markdown",
   "metadata": {},
   "source": [
    "<b>Results: </b>\n",
    "\n",
    "All the sensor datasets have same datatype for each column"
   ]
  },
  {
   "cell_type": "markdown",
   "metadata": {},
   "source": [
    "## Unique ID check (driver_data)"
   ]
  },
  {
   "cell_type": "code",
   "execution_count": 14,
   "metadata": {},
   "outputs": [
    {
     "data": {
      "text/plain": [
       "True"
      ]
     },
     "execution_count": 14,
     "metadata": {},
     "output_type": "execute_result"
    }
   ],
   "source": [
    "len(np.unique(driver_data['id'])) == driver_data.shape[0]"
   ]
  },
  {
   "cell_type": "markdown",
   "metadata": {},
   "source": [
    "<b>Results: </b>\n",
    "\n",
    "Number of unique id in driver data is same as the number of rows in the dataset, thus there are no duplicated ids"
   ]
  },
  {
   "cell_type": "markdown",
   "metadata": {},
   "source": [
    "## Unique ID check (safety_labels)"
   ]
  },
  {
   "cell_type": "code",
   "execution_count": 15,
   "metadata": {},
   "outputs": [
    {
     "data": {
      "text/plain": [
       "True"
      ]
     },
     "execution_count": 15,
     "metadata": {},
     "output_type": "execute_result"
    }
   ],
   "source": [
    "len(np.unique(safety_labels['bookingID'])) == safety_labels.shape[0]"
   ]
  },
  {
   "cell_type": "code",
   "execution_count": 16,
   "metadata": {},
   "outputs": [
    {
     "data": {
      "text/plain": [
       "False"
      ]
     },
     "execution_count": 16,
     "metadata": {},
     "output_type": "execute_result"
    }
   ],
   "source": [
    "len(np.unique(safety_labels['driver_id'])) == safety_labels.shape[0]"
   ]
  },
  {
   "cell_type": "markdown",
   "metadata": {},
   "source": [
    "<b>Results: </b>\n",
    "\n",
    "bookingID is unique in the safety_labels dataset, however driver_id is not"
   ]
  },
  {
   "cell_type": "markdown",
   "metadata": {},
   "source": [
    "## Duplicates Check (sensor_data)\n",
    "Check if there are duplicate columns for all 5 sensor datasets"
   ]
  },
  {
   "cell_type": "code",
   "execution_count": 58,
   "metadata": {},
   "outputs": [
    {
     "name": "stdout",
     "output_type": "stream",
     "text": [
      "38.708088\n",
      "-48.45575\n"
     ]
    }
   ],
   "source": [
    "col ='gyro_x'\n",
    "print(np.max(all_sensors[col]))\n",
    "print(np.min(all_sensors[col]))"
   ]
  },
  {
   "cell_type": "code",
   "execution_count": 59,
   "metadata": {},
   "outputs": [
    {
     "data": {
      "text/plain": [
       "20"
      ]
     },
     "execution_count": 59,
     "metadata": {},
     "output_type": "execute_result"
    }
   ],
   "source": [
    "all_sensors['gyro_x'].apply(lambda x: len(str(x).split('.')[1]) if len(str(x).split('.')) > 1 else 0).max()"
   ]
  },
  {
   "cell_type": "code",
   "execution_count": 52,
   "metadata": {},
   "outputs": [
    {
     "name": "stdout",
     "output_type": "stream",
     "text": [
      "<class 'pandas.core.frame.DataFrame'>\n",
      "RangeIndex: 7469656 entries, 0 to 7469655\n",
      "Data columns (total 11 columns):\n",
      " #   Column          Dtype  \n",
      "---  ------          -----  \n",
      " 0   bookingID       int64  \n",
      " 1   Accuracy        float64\n",
      " 2   Bearing         float64\n",
      " 3   acceleration_x  float64\n",
      " 4   acceleration_y  float64\n",
      " 5   acceleration_z  float64\n",
      " 6   gyro_x          float64\n",
      " 7   gyro_y          float64\n",
      " 8   gyro_z          float64\n",
      " 9   second          float64\n",
      " 10  Speed           float64\n",
      "dtypes: float64(10), int64(1)\n",
      "memory usage: 626.9 MB\n"
     ]
    }
   ],
   "source": [
    "# Combine all sensor dataset to form one sensor data\n",
    "all_sensors = pd.concat([sensor1, sensor2, sensor3, sensor4, sensor5], ignore_index=True)\n",
    "all_sensors.info()"
   ]
  },
  {
   "cell_type": "code",
   "execution_count": 28,
   "metadata": {},
   "outputs": [
    {
     "name": "stdout",
     "output_type": "stream",
     "text": [
      "Any duplicates: 0\n"
     ]
    }
   ],
   "source": [
    "# check for duplicates in all 5 sensor data\n",
    "print(f\"Any duplicates: {all_sensors[all_sensors.duplicated()].shape[0]}\")"
   ]
  },
  {
   "cell_type": "markdown",
   "metadata": {},
   "source": [
    "<b>Results: </b>\n",
    "\n",
    "There are no duplicates in sensor data"
   ]
  },
  {
   "cell_type": "markdown",
   "metadata": {},
   "source": [
    "## Unique ID check (sensor data)\n",
    "As there are 5 sensor datasets to work with, I would combine bookingIDs of all 5 datasets into a single DataFrame first then check for duplicates"
   ]
  },
  {
   "cell_type": "code",
   "execution_count": 27,
   "metadata": {},
   "outputs": [
    {
     "data": {
      "text/plain": [
       "False"
      ]
     },
     "execution_count": 27,
     "metadata": {},
     "output_type": "execute_result"
    }
   ],
   "source": [
    "len(np.unique(all_sensors['bookingID'])) == all_sensors.shape[0]"
   ]
  },
  {
   "cell_type": "markdown",
   "metadata": {},
   "source": [
    "<b>Initial Results: </b>\n",
    "\n",
    "There are duplicate bookingIDs in sensor data"
   ]
  },
  {
   "cell_type": "markdown",
   "metadata": {},
   "source": [
    "### Hypothesis:\n",
    "There will be no 2 rows with the same `second` for each bookingID"
   ]
  },
  {
   "cell_type": "code",
   "execution_count": null,
   "metadata": {},
   "outputs": [],
   "source": [
    "# stop running notebook\n",
    "import sys\n",
    "sys.exit()"
   ]
  },
  {
   "cell_type": "code",
   "execution_count": 92,
   "metadata": {},
   "outputs": [
    {
     "name": "stdout",
     "output_type": "stream",
     "text": [
      "Sensor data is clean\n"
     ]
    }
   ],
   "source": [
    "switch = True\n",
    "data = all_sensors\n",
    "for bookingID in np.unique(data['bookingID']):\n",
    "    if len(np.unique(data[(data['bookingID']==bookingID)]['second'])) != len(data[(data['bookingID']==bookingID)]):\n",
    "        print(f\"Anomaly detected: {bookingID}\")\n",
    "        switch = False\n",
    "if switch == True:\n",
    "    print(\"Sensor data is clean\")"
   ]
  },
  {
   "cell_type": "markdown",
   "metadata": {},
   "source": [
    "<b>Results:</b>\n",
    "\n",
    "The bookingIDs are not unique and there are multiple readings going on throught the trip for the same bookingID. However, a composite key of bookingID and number of seconds is unique."
   ]
  }
 ],
 "metadata": {
  "kernelspec": {
   "display_name": "Python 3.9.4 64-bit",
   "language": "python",
   "name": "python3"
  },
  "language_info": {
   "codemirror_mode": {
    "name": "ipython",
    "version": 3
   },
   "file_extension": ".py",
   "mimetype": "text/x-python",
   "name": "python",
   "nbconvert_exporter": "python",
   "pygments_lexer": "ipython3",
   "version": "3.9.4"
  },
  "orig_nbformat": 4,
  "vscode": {
   "interpreter": {
    "hash": "11938c6bc6919ae2720b4d5011047913343b08a43b18698fd82dedb0d4417594"
   }
  }
 },
 "nbformat": 4,
 "nbformat_minor": 2
}
