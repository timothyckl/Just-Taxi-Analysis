{
 "cells": [
  {
   "cell_type": "markdown",
   "metadata": {},
   "source": [
    "# Verifying Data Quality\n",
    "This process is needed to check if data has any problems. This step is required before inserting data into the database. There are 7 datasets in total.\n",
    "\n",
    "Things to check:\n",
    "* Are there any duplicates in the data?\n",
    "* Are any of the data in incorrect format?\n",
    "* Do all the data have the same columns? (for sensor data)\n",
    "* Do all data in each column have the same datatype across all 5 sensor datasets?\n",
    "* Is `id` unique for driver_data?\n",
    "* Is `bookingID`/`driver_id` unique for safety_labels?\n",
    "* Is `bookingID` unique for sensor_data?"
   ]
  },
  {
   "cell_type": "code",
   "execution_count": 3,
   "metadata": {},
   "outputs": [],
   "source": [
    "import numpy as np\n",
    "import pandas as pd"
   ]
  },
  {
   "cell_type": "code",
   "execution_count": 4,
   "metadata": {},
   "outputs": [
    {
     "name": "stdout",
     "output_type": "stream",
     "text": [
      "<class 'pandas.core.frame.DataFrame'>\n",
      "RangeIndex: 148 entries, 0 to 147\n",
      "Data columns (total 7 columns):\n",
      " #   Column         Non-Null Count  Dtype  \n",
      "---  ------         --------------  -----  \n",
      " 0   id             148 non-null    int64  \n",
      " 1   name           148 non-null    object \n",
      " 2   date_of_birth  148 non-null    object \n",
      " 3   gender         148 non-null    object \n",
      " 4   car_model      148 non-null    object \n",
      " 5   car_make_year  148 non-null    int64  \n",
      " 6   rating         148 non-null    float64\n",
      "dtypes: float64(1), int64(2), object(4)\n",
      "memory usage: 8.2+ KB\n"
     ]
    }
   ],
   "source": [
    "driver_data = pd.read_csv('..\\data\\driver_data.csv')\n",
    "driver_data.info()"
   ]
  },
  {
   "cell_type": "code",
   "execution_count": 5,
   "metadata": {},
   "outputs": [
    {
     "name": "stdout",
     "output_type": "stream",
     "text": [
      "<class 'pandas.core.frame.DataFrame'>\n",
      "RangeIndex: 20000 entries, 0 to 19999\n",
      "Data columns (total 3 columns):\n",
      " #   Column     Non-Null Count  Dtype\n",
      "---  ------     --------------  -----\n",
      " 0   bookingID  20000 non-null  int64\n",
      " 1   driver_id  20000 non-null  int64\n",
      " 2   label      20000 non-null  int64\n",
      "dtypes: int64(3)\n",
      "memory usage: 468.9 KB\n"
     ]
    }
   ],
   "source": [
    "safety_labels = pd.read_csv('..\\data\\safety_labels.csv')\n",
    "safety_labels.info()"
   ]
  },
  {
   "cell_type": "code",
   "execution_count": 15,
   "metadata": {},
   "outputs": [],
   "source": [
    "sensor1 = pd.read_csv('..\\data\\sensor_data\\sensor_data_part-1.csv')\n",
    "sensor2 = pd.read_csv('..\\data\\sensor_data\\sensor_data_part-2.csv')\n",
    "sensor3 = pd.read_csv('..\\data\\sensor_data\\sensor_data_part-3.csv')\n",
    "sensor4 = pd.read_csv('..\\data\\sensor_data\\sensor_data_part-4.csv')\n",
    "sensor5 = pd.read_csv('..\\data\\sensor_data\\sensor_data_part-5.csv')"
   ]
  },
  {
   "cell_type": "code",
   "execution_count": 16,
   "metadata": {},
   "outputs": [
    {
     "name": "stdout",
     "output_type": "stream",
     "text": [
      "<class 'pandas.core.frame.DataFrame'>\n",
      "RangeIndex: 1613554 entries, 0 to 1613553\n",
      "Data columns (total 11 columns):\n",
      " #   Column          Non-Null Count    Dtype  \n",
      "---  ------          --------------    -----  \n",
      " 0   bookingID       1613554 non-null  int64  \n",
      " 1   Accuracy        1549012 non-null  float64\n",
      " 2   Bearing         1549012 non-null  float64\n",
      " 3   acceleration_x  1581283 non-null  float64\n",
      " 4   acceleration_y  1581283 non-null  float64\n",
      " 5   acceleration_z  1549012 non-null  float64\n",
      " 6   gyro_x          1565147 non-null  float64\n",
      " 7   gyro_y          1597418 non-null  float64\n",
      " 8   gyro_z          1613554 non-null  float64\n",
      " 9   second          1613554 non-null  float64\n",
      " 10  Speed           1565147 non-null  float64\n",
      "dtypes: float64(10), int64(1)\n",
      "memory usage: 135.4 MB\n"
     ]
    }
   ],
   "source": [
    "sensor1.info()"
   ]
  },
  {
   "cell_type": "markdown",
   "metadata": {},
   "source": [
    "## Duplicates Check"
   ]
  },
  {
   "cell_type": "code",
   "execution_count": 9,
   "metadata": {},
   "outputs": [
    {
     "data": {
      "text/plain": [
       "0"
      ]
     },
     "execution_count": 9,
     "metadata": {},
     "output_type": "execute_result"
    }
   ],
   "source": [
    "# check for duplicates in driver_data\n",
    "driver_data[driver_data.duplicated()].shape[0]"
   ]
  },
  {
   "cell_type": "code",
   "execution_count": 10,
   "metadata": {},
   "outputs": [
    {
     "data": {
      "text/plain": [
       "0"
      ]
     },
     "execution_count": 10,
     "metadata": {},
     "output_type": "execute_result"
    }
   ],
   "source": [
    "# check for duplicates in safety_labels\n",
    "safety_labels[safety_labels.duplicated()].shape[0]"
   ]
  },
  {
   "cell_type": "code",
   "execution_count": 17,
   "metadata": {},
   "outputs": [
    {
     "name": "stdout",
     "output_type": "stream",
     "text": [
      "Sensor1 duplicates: 0\n",
      "Sensor2 duplicates: 0\n",
      "Sensor3 duplicates: 0\n",
      "Sensor4 duplicates: 0\n",
      "Sensor5 duplicates: 0\n"
     ]
    }
   ],
   "source": [
    "# check for duplicates in all 5 sensor data\n",
    "print(f\"Sensor1 duplicates: {sensor1[sensor1.duplicated()].shape[0]}\")\n",
    "print(f\"Sensor2 duplicates: {sensor2[sensor2.duplicated()].shape[0]}\")\n",
    "print(f\"Sensor3 duplicates: {sensor3[sensor3.duplicated()].shape[0]}\")\n",
    "print(f\"Sensor4 duplicates: {sensor4[sensor4.duplicated()].shape[0]}\")\n",
    "print(f\"Sensor5 duplicates: {sensor5[sensor5.duplicated()].shape[0]}\")"
   ]
  },
  {
   "cell_type": "markdown",
   "metadata": {},
   "source": [
    "<b>Results: </b>\n",
    "\n",
    "There are no duplicates in any of the datasets"
   ]
  },
  {
   "cell_type": "markdown",
   "metadata": {},
   "source": [
    "## Column consistency check\n"
   ]
  },
  {
   "cell_type": "code",
   "execution_count": 32,
   "metadata": {},
   "outputs": [
    {
     "name": "stdout",
     "output_type": "stream",
     "text": [
      "Any different columns (1 and 2): False\n",
      "Any different columns (1 and 3): False\n",
      "Any different columns (1 and 4): False\n",
      "Any different columns (1 and 5): False\n"
     ]
    }
   ],
   "source": [
    "# check if column names are the same in all 5 sensor data (using sensor1 as reference)\n",
    "print(f\"Any different columns (1 and 2): {np.any((sensor1.columns == sensor2.columns) == False)}\")\n",
    "print(f\"Any different columns (1 and 3): {np.any((sensor1.columns == sensor3.columns) == False)}\")\n",
    "print(f\"Any different columns (1 and 4): {np.any((sensor1.columns == sensor4.columns) == False)}\")\n",
    "print(f\"Any different columns (1 and 5): {np.any((sensor1.columns == sensor5.columns) == False)}\")"
   ]
  },
  {
   "cell_type": "markdown",
   "metadata": {},
   "source": [
    "<b>Results: </b>\n",
    "\n",
    "Column names and count are all consistent throughout the 5 sensor datasets"
   ]
  },
  {
   "cell_type": "markdown",
   "metadata": {},
   "source": [
    "## Datatype consistency check\n",
    "Using sensor1 as benchmark, check if all the other 4 sensor datasets have the same datatype for each column"
   ]
  },
  {
   "cell_type": "code",
   "execution_count": 38,
   "metadata": {},
   "outputs": [
    {
     "data": {
      "text/plain": [
       "bookingID         True\n",
       "Accuracy          True\n",
       "Bearing           True\n",
       "acceleration_x    True\n",
       "acceleration_y    True\n",
       "acceleration_z    True\n",
       "gyro_x            True\n",
       "gyro_y            True\n",
       "gyro_z            True\n",
       "second            True\n",
       "Speed             True\n",
       "dtype: bool"
      ]
     },
     "execution_count": 38,
     "metadata": {},
     "output_type": "execute_result"
    }
   ],
   "source": [
    "sensor1.dtypes == sensor2.dtypes"
   ]
  },
  {
   "cell_type": "code",
   "execution_count": 39,
   "metadata": {},
   "outputs": [
    {
     "data": {
      "text/plain": [
       "bookingID         True\n",
       "Accuracy          True\n",
       "Bearing           True\n",
       "acceleration_x    True\n",
       "acceleration_y    True\n",
       "acceleration_z    True\n",
       "gyro_x            True\n",
       "gyro_y            True\n",
       "gyro_z            True\n",
       "second            True\n",
       "Speed             True\n",
       "dtype: bool"
      ]
     },
     "execution_count": 39,
     "metadata": {},
     "output_type": "execute_result"
    }
   ],
   "source": [
    "sensor1.dtypes == sensor3.dtypes"
   ]
  },
  {
   "cell_type": "code",
   "execution_count": 40,
   "metadata": {},
   "outputs": [
    {
     "data": {
      "text/plain": [
       "bookingID         True\n",
       "Accuracy          True\n",
       "Bearing           True\n",
       "acceleration_x    True\n",
       "acceleration_y    True\n",
       "acceleration_z    True\n",
       "gyro_x            True\n",
       "gyro_y            True\n",
       "gyro_z            True\n",
       "second            True\n",
       "Speed             True\n",
       "dtype: bool"
      ]
     },
     "execution_count": 40,
     "metadata": {},
     "output_type": "execute_result"
    }
   ],
   "source": [
    "sensor1.dtypes == sensor4.dtypes"
   ]
  },
  {
   "cell_type": "code",
   "execution_count": 42,
   "metadata": {},
   "outputs": [
    {
     "data": {
      "text/plain": [
       "bookingID         True\n",
       "Accuracy          True\n",
       "Bearing           True\n",
       "acceleration_x    True\n",
       "acceleration_y    True\n",
       "acceleration_z    True\n",
       "gyro_x            True\n",
       "gyro_y            True\n",
       "gyro_z            True\n",
       "second            True\n",
       "Speed             True\n",
       "dtype: bool"
      ]
     },
     "execution_count": 42,
     "metadata": {},
     "output_type": "execute_result"
    }
   ],
   "source": [
    "sensor1.dtypes == sensor5.dtypes"
   ]
  },
  {
   "cell_type": "markdown",
   "metadata": {},
   "source": [
    "<b>Results: </b>\n",
    "\n",
    "All the sensor datasets have same datatype for each column"
   ]
  },
  {
   "cell_type": "markdown",
   "metadata": {},
   "source": [
    "## Unique ID check (driver_data)"
   ]
  },
  {
   "cell_type": "code",
   "execution_count": 45,
   "metadata": {},
   "outputs": [
    {
     "data": {
      "text/plain": [
       "True"
      ]
     },
     "execution_count": 45,
     "metadata": {},
     "output_type": "execute_result"
    }
   ],
   "source": [
    "len(np.unique(driver_data['id'])) == driver_data.shape[0]"
   ]
  },
  {
   "cell_type": "markdown",
   "metadata": {},
   "source": [
    "<b>Results: </b>\n",
    "\n",
    "Number of unique id in driver data is same as the number of rows in the dataset, thus there are no duplicated ids"
   ]
  },
  {
   "cell_type": "markdown",
   "metadata": {},
   "source": [
    "## Unique ID check (safety_labels)"
   ]
  },
  {
   "cell_type": "code",
   "execution_count": 93,
   "metadata": {},
   "outputs": [
    {
     "data": {
      "text/plain": [
       "True"
      ]
     },
     "execution_count": 93,
     "metadata": {},
     "output_type": "execute_result"
    }
   ],
   "source": [
    "len(np.unique(safety_labels['bookingID'])) == safety_labels.shape[0]"
   ]
  },
  {
   "cell_type": "code",
   "execution_count": 94,
   "metadata": {},
   "outputs": [
    {
     "data": {
      "text/plain": [
       "False"
      ]
     },
     "execution_count": 94,
     "metadata": {},
     "output_type": "execute_result"
    }
   ],
   "source": [
    "len(np.unique(safety_labels['driver_id'])) == safety_labels.shape[0]"
   ]
  },
  {
   "cell_type": "markdown",
   "metadata": {},
   "source": [
    "<b>Results: </b>\n",
    "\n",
    "bookingID is unique in the safety_labels dataset, however driver_id is not"
   ]
  },
  {
   "cell_type": "markdown",
   "metadata": {},
   "source": [
    "## Unique ID check (sensor data)\n",
    "As there are 5 sensor datasets to work with, I would combine bookingIDs of all 5 datasets into a single DataFrame first then check for duplicates"
   ]
  },
  {
   "cell_type": "code",
   "execution_count": 70,
   "metadata": {},
   "outputs": [
    {
     "data": {
      "text/plain": [
       "False"
      ]
     },
     "execution_count": 70,
     "metadata": {},
     "output_type": "execute_result"
    }
   ],
   "source": [
    "# ignore deprecation warnings\n",
    "import warnings\n",
    "warnings.filterwarnings(\"ignore\")\n",
    "\n",
    "s1_ids = sensor1[['bookingID']]\n",
    "s2_ids = sensor2[['bookingID']]\n",
    "s3_ids = sensor3[['bookingID']]\n",
    "s4_ids = sensor4[['bookingID']]\n",
    "s5_ids = sensor5[['bookingID']]\n",
    "\n",
    "# combine all 5 sensors' IDs into one data frame\n",
    "all_ids = s1_ids.append(s2_ids, ignore_index=True)\n",
    "all_ids = all_ids.append(s3_ids, ignore_index=True)\n",
    "all_ids = all_ids.append(s4_ids, ignore_index=True)\n",
    "all_ids = all_ids.append(s5_ids, ignore_index=True)\n",
    "len(np.unique(all_ids['bookingID'])) == all_ids.shape[0] # same number 1,000,667 as before"
   ]
  },
  {
   "cell_type": "code",
   "execution_count": 71,
   "metadata": {},
   "outputs": [
    {
     "data": {
      "text/html": [
       "<div>\n",
       "<style scoped>\n",
       "    .dataframe tbody tr th:only-of-type {\n",
       "        vertical-align: middle;\n",
       "    }\n",
       "\n",
       "    .dataframe tbody tr th {\n",
       "        vertical-align: top;\n",
       "    }\n",
       "\n",
       "    .dataframe thead th {\n",
       "        text-align: right;\n",
       "    }\n",
       "</style>\n",
       "<table border=\"1\" class=\"dataframe\">\n",
       "  <thead>\n",
       "    <tr style=\"text-align: right;\">\n",
       "      <th></th>\n",
       "      <th>bookingID</th>\n",
       "      <th>Accuracy</th>\n",
       "      <th>Bearing</th>\n",
       "      <th>acceleration_x</th>\n",
       "      <th>acceleration_y</th>\n",
       "      <th>acceleration_z</th>\n",
       "      <th>gyro_x</th>\n",
       "      <th>gyro_y</th>\n",
       "      <th>gyro_z</th>\n",
       "      <th>second</th>\n",
       "      <th>Speed</th>\n",
       "    </tr>\n",
       "  </thead>\n",
       "  <tbody>\n",
       "    <tr>\n",
       "      <th>0</th>\n",
       "      <td>1202590843006</td>\n",
       "      <td>6.181</td>\n",
       "      <td>316.0</td>\n",
       "      <td>1.314675</td>\n",
       "      <td>9.502998</td>\n",
       "      <td>3.751053</td>\n",
       "      <td>0.014940</td>\n",
       "      <td>-0.002269</td>\n",
       "      <td>-0.031730</td>\n",
       "      <td>25.0</td>\n",
       "      <td>7.998814</td>\n",
       "    </tr>\n",
       "    <tr>\n",
       "      <th>1</th>\n",
       "      <td>1202590843006</td>\n",
       "      <td>10.368</td>\n",
       "      <td>326.0</td>\n",
       "      <td>5.035418</td>\n",
       "      <td>7.967118</td>\n",
       "      <td>5.272981</td>\n",
       "      <td>-0.024662</td>\n",
       "      <td>-0.485324</td>\n",
       "      <td>-0.205059</td>\n",
       "      <td>29.0</td>\n",
       "      <td>5.132751</td>\n",
       "    </tr>\n",
       "    <tr>\n",
       "      <th>2</th>\n",
       "      <td>1202590843006</td>\n",
       "      <td>10.397</td>\n",
       "      <td>51.0</td>\n",
       "      <td>4.970152</td>\n",
       "      <td>8.340805</td>\n",
       "      <td>4.861608</td>\n",
       "      <td>-0.171828</td>\n",
       "      <td>-0.892771</td>\n",
       "      <td>-0.370045</td>\n",
       "      <td>31.0</td>\n",
       "      <td>2.432286</td>\n",
       "    </tr>\n",
       "    <tr>\n",
       "      <th>3</th>\n",
       "      <td>1202590843006</td>\n",
       "      <td>14.742</td>\n",
       "      <td>130.0</td>\n",
       "      <td>1.714325</td>\n",
       "      <td>8.839757</td>\n",
       "      <td>3.273697</td>\n",
       "      <td>-0.034121</td>\n",
       "      <td>-0.044558</td>\n",
       "      <td>0.073880</td>\n",
       "      <td>43.0</td>\n",
       "      <td>14.513086</td>\n",
       "    </tr>\n",
       "    <tr>\n",
       "      <th>4</th>\n",
       "      <td>1202590843006</td>\n",
       "      <td>17.825</td>\n",
       "      <td>134.0</td>\n",
       "      <td>2.229098</td>\n",
       "      <td>8.312774</td>\n",
       "      <td>5.560706</td>\n",
       "      <td>-0.177675</td>\n",
       "      <td>0.027890</td>\n",
       "      <td>0.037437</td>\n",
       "      <td>45.0</td>\n",
       "      <td>14.171288</td>\n",
       "    </tr>\n",
       "    <tr>\n",
       "      <th>...</th>\n",
       "      <td>...</td>\n",
       "      <td>...</td>\n",
       "      <td>...</td>\n",
       "      <td>...</td>\n",
       "      <td>...</td>\n",
       "      <td>...</td>\n",
       "      <td>...</td>\n",
       "      <td>...</td>\n",
       "      <td>...</td>\n",
       "      <td>...</td>\n",
       "      <td>...</td>\n",
       "    </tr>\n",
       "    <tr>\n",
       "      <th>114</th>\n",
       "      <td>1202590843006</td>\n",
       "      <td>4.700</td>\n",
       "      <td>345.0</td>\n",
       "      <td>0.311007</td>\n",
       "      <td>9.754408</td>\n",
       "      <td>4.960901</td>\n",
       "      <td>0.029828</td>\n",
       "      <td>0.146346</td>\n",
       "      <td>0.027437</td>\n",
       "      <td>1453.0</td>\n",
       "      <td>10.651598</td>\n",
       "    </tr>\n",
       "    <tr>\n",
       "      <th>115</th>\n",
       "      <td>1202590843006</td>\n",
       "      <td>6.413</td>\n",
       "      <td>338.0</td>\n",
       "      <td>1.291404</td>\n",
       "      <td>9.502691</td>\n",
       "      <td>NaN</td>\n",
       "      <td>0.060388</td>\n",
       "      <td>-0.087389</td>\n",
       "      <td>-0.068120</td>\n",
       "      <td>1465.0</td>\n",
       "      <td>15.859739</td>\n",
       "    </tr>\n",
       "    <tr>\n",
       "      <th>116</th>\n",
       "      <td>1202590843006</td>\n",
       "      <td>6.312</td>\n",
       "      <td>359.0</td>\n",
       "      <td>2.120133</td>\n",
       "      <td>7.969474</td>\n",
       "      <td>5.537856</td>\n",
       "      <td>0.039689</td>\n",
       "      <td>-0.052447</td>\n",
       "      <td>-0.042062</td>\n",
       "      <td>1480.0</td>\n",
       "      <td>9.832068</td>\n",
       "    </tr>\n",
       "    <tr>\n",
       "      <th>117</th>\n",
       "      <td>1202590843006</td>\n",
       "      <td>6.131</td>\n",
       "      <td>3.0</td>\n",
       "      <td>1.171483</td>\n",
       "      <td>8.417190</td>\n",
       "      <td>1.362291</td>\n",
       "      <td>-0.071297</td>\n",
       "      <td>0.054664</td>\n",
       "      <td>0.010193</td>\n",
       "      <td>1481.0</td>\n",
       "      <td>8.770092</td>\n",
       "    </tr>\n",
       "    <tr>\n",
       "      <th>118</th>\n",
       "      <td>1202590843006</td>\n",
       "      <td>7.806</td>\n",
       "      <td>264.0</td>\n",
       "      <td>2.161658</td>\n",
       "      <td>7.840781</td>\n",
       "      <td>6.786575</td>\n",
       "      <td>0.012374</td>\n",
       "      <td>0.009617</td>\n",
       "      <td>-0.027995</td>\n",
       "      <td>1512.0</td>\n",
       "      <td>7.063138</td>\n",
       "    </tr>\n",
       "  </tbody>\n",
       "</table>\n",
       "<p>119 rows × 11 columns</p>\n",
       "</div>"
      ],
      "text/plain": [
       "         bookingID  Accuracy  Bearing  acceleration_x  acceleration_y  \\\n",
       "0    1202590843006     6.181    316.0        1.314675        9.502998   \n",
       "1    1202590843006    10.368    326.0        5.035418        7.967118   \n",
       "2    1202590843006    10.397     51.0        4.970152        8.340805   \n",
       "3    1202590843006    14.742    130.0        1.714325        8.839757   \n",
       "4    1202590843006    17.825    134.0        2.229098        8.312774   \n",
       "..             ...       ...      ...             ...             ...   \n",
       "114  1202590843006     4.700    345.0        0.311007        9.754408   \n",
       "115  1202590843006     6.413    338.0        1.291404        9.502691   \n",
       "116  1202590843006     6.312    359.0        2.120133        7.969474   \n",
       "117  1202590843006     6.131      3.0        1.171483        8.417190   \n",
       "118  1202590843006     7.806    264.0        2.161658        7.840781   \n",
       "\n",
       "     acceleration_z    gyro_x    gyro_y    gyro_z  second      Speed  \n",
       "0          3.751053  0.014940 -0.002269 -0.031730    25.0   7.998814  \n",
       "1          5.272981 -0.024662 -0.485324 -0.205059    29.0   5.132751  \n",
       "2          4.861608 -0.171828 -0.892771 -0.370045    31.0   2.432286  \n",
       "3          3.273697 -0.034121 -0.044558  0.073880    43.0  14.513086  \n",
       "4          5.560706 -0.177675  0.027890  0.037437    45.0  14.171288  \n",
       "..              ...       ...       ...       ...     ...        ...  \n",
       "114        4.960901  0.029828  0.146346  0.027437  1453.0  10.651598  \n",
       "115             NaN  0.060388 -0.087389 -0.068120  1465.0  15.859739  \n",
       "116        5.537856  0.039689 -0.052447 -0.042062  1480.0   9.832068  \n",
       "117        1.362291 -0.071297  0.054664  0.010193  1481.0   8.770092  \n",
       "118        6.786575  0.012374  0.009617 -0.027995  1512.0   7.063138  \n",
       "\n",
       "[119 rows x 11 columns]"
      ]
     },
     "execution_count": 71,
     "metadata": {},
     "output_type": "execute_result"
    }
   ],
   "source": [
    "sensor1[(sensor1['bookingID']==1202590843006)]\n",
    "\n",
    "# get certain booking id and sort by second\n",
    "sensor1[(sensor1['bookingID']==1202590843006)].sort_values(by='second', ignore_index=True)"
   ]
  },
  {
   "cell_type": "code",
   "execution_count": 79,
   "metadata": {},
   "outputs": [
    {
     "data": {
      "text/html": [
       "<div>\n",
       "<style scoped>\n",
       "    .dataframe tbody tr th:only-of-type {\n",
       "        vertical-align: middle;\n",
       "    }\n",
       "\n",
       "    .dataframe tbody tr th {\n",
       "        vertical-align: top;\n",
       "    }\n",
       "\n",
       "    .dataframe thead th {\n",
       "        text-align: right;\n",
       "    }\n",
       "</style>\n",
       "<table border=\"1\" class=\"dataframe\">\n",
       "  <thead>\n",
       "    <tr style=\"text-align: right;\">\n",
       "      <th></th>\n",
       "      <th>bookingID</th>\n",
       "      <th>Accuracy</th>\n",
       "      <th>Bearing</th>\n",
       "      <th>acceleration_x</th>\n",
       "      <th>acceleration_y</th>\n",
       "      <th>acceleration_z</th>\n",
       "      <th>gyro_x</th>\n",
       "      <th>gyro_y</th>\n",
       "      <th>gyro_z</th>\n",
       "      <th>second</th>\n",
       "      <th>Speed</th>\n",
       "    </tr>\n",
       "  </thead>\n",
       "  <tbody>\n",
       "    <tr>\n",
       "      <th>0</th>\n",
       "      <td>1202590843006</td>\n",
       "      <td>3.000</td>\n",
       "      <td>353.0</td>\n",
       "      <td>1.228867</td>\n",
       "      <td>8.900100</td>\n",
       "      <td>3.986968</td>\n",
       "      <td>0.008221</td>\n",
       "      <td>0.002269</td>\n",
       "      <td>-0.009966</td>\n",
       "      <td>1362.0</td>\n",
       "      <td>0.000000</td>\n",
       "    </tr>\n",
       "    <tr>\n",
       "      <th>1</th>\n",
       "      <td>274877907034</td>\n",
       "      <td>9.293</td>\n",
       "      <td>17.0</td>\n",
       "      <td>0.032775</td>\n",
       "      <td>8.659933</td>\n",
       "      <td>4.737300</td>\n",
       "      <td>0.024629</td>\n",
       "      <td>0.004028</td>\n",
       "      <td>-0.010858</td>\n",
       "      <td>257.0</td>\n",
       "      <td>0.190000</td>\n",
       "    </tr>\n",
       "    <tr>\n",
       "      <th>2</th>\n",
       "      <td>884763263056</td>\n",
       "      <td>3.000</td>\n",
       "      <td>189.0</td>\n",
       "      <td>1.139675</td>\n",
       "      <td>9.545974</td>\n",
       "      <td>1.951334</td>\n",
       "      <td>-0.006899</td>\n",
       "      <td>-0.015080</td>\n",
       "      <td>0.001122</td>\n",
       "      <td>973.0</td>\n",
       "      <td>0.667059</td>\n",
       "    </tr>\n",
       "    <tr>\n",
       "      <th>3</th>\n",
       "      <td>1073741824054</td>\n",
       "      <td>3.900</td>\n",
       "      <td>126.0</td>\n",
       "      <td>3.871542</td>\n",
       "      <td>10.386364</td>\n",
       "      <td>-0.136474</td>\n",
       "      <td>0.001344</td>\n",
       "      <td>-0.339601</td>\n",
       "      <td>-0.017956</td>\n",
       "      <td>902.0</td>\n",
       "      <td>7.913285</td>\n",
       "    </tr>\n",
       "    <tr>\n",
       "      <th>4</th>\n",
       "      <td>1056561954943</td>\n",
       "      <td>3.900</td>\n",
       "      <td>50.0</td>\n",
       "      <td>-0.112882</td>\n",
       "      <td>10.550960</td>\n",
       "      <td>-1.560110</td>\n",
       "      <td>0.130568</td>\n",
       "      <td>-0.061697</td>\n",
       "      <td>0.161530</td>\n",
       "      <td>820.0</td>\n",
       "      <td>20.419409</td>\n",
       "    </tr>\n",
       "  </tbody>\n",
       "</table>\n",
       "</div>"
      ],
      "text/plain": [
       "       bookingID  Accuracy  Bearing  acceleration_x  acceleration_y  \\\n",
       "0  1202590843006     3.000    353.0        1.228867        8.900100   \n",
       "1   274877907034     9.293     17.0        0.032775        8.659933   \n",
       "2   884763263056     3.000    189.0        1.139675        9.545974   \n",
       "3  1073741824054     3.900    126.0        3.871542       10.386364   \n",
       "4  1056561954943     3.900     50.0       -0.112882       10.550960   \n",
       "\n",
       "   acceleration_z    gyro_x    gyro_y    gyro_z  second      Speed  \n",
       "0        3.986968  0.008221  0.002269 -0.009966  1362.0   0.000000  \n",
       "1        4.737300  0.024629  0.004028 -0.010858   257.0   0.190000  \n",
       "2        1.951334 -0.006899 -0.015080  0.001122   973.0   0.667059  \n",
       "3       -0.136474  0.001344 -0.339601 -0.017956   902.0   7.913285  \n",
       "4       -1.560110  0.130568 -0.061697  0.161530   820.0  20.419409  "
      ]
     },
     "execution_count": 79,
     "metadata": {},
     "output_type": "execute_result"
    }
   ],
   "source": [
    "sensor1.head()"
   ]
  },
  {
   "cell_type": "code",
   "execution_count": 80,
   "metadata": {},
   "outputs": [
    {
     "data": {
      "text/plain": [
       "True"
      ]
     },
     "execution_count": 80,
     "metadata": {},
     "output_type": "execute_result"
    }
   ],
   "source": [
    "len(np.unique(sensor1[(sensor1['bookingID']==1056561954943)]['second'])) == len(sensor1[(sensor1['bookingID']==1056561954943)])"
   ]
  },
  {
   "cell_type": "markdown",
   "metadata": {},
   "source": [
    "### Hypothesis:\n",
    "There will be no 2 rows with the same `second` for each bookingID"
   ]
  },
  {
   "cell_type": "code",
   "execution_count": 90,
   "metadata": {},
   "outputs": [
    {
     "data": {
      "text/html": [
       "<div>\n",
       "<style scoped>\n",
       "    .dataframe tbody tr th:only-of-type {\n",
       "        vertical-align: middle;\n",
       "    }\n",
       "\n",
       "    .dataframe tbody tr th {\n",
       "        vertical-align: top;\n",
       "    }\n",
       "\n",
       "    .dataframe thead th {\n",
       "        text-align: right;\n",
       "    }\n",
       "</style>\n",
       "<table border=\"1\" class=\"dataframe\">\n",
       "  <thead>\n",
       "    <tr style=\"text-align: right;\">\n",
       "      <th></th>\n",
       "      <th>bookingID</th>\n",
       "      <th>Accuracy</th>\n",
       "      <th>Bearing</th>\n",
       "      <th>acceleration_x</th>\n",
       "      <th>acceleration_y</th>\n",
       "      <th>acceleration_z</th>\n",
       "      <th>gyro_x</th>\n",
       "      <th>gyro_y</th>\n",
       "      <th>gyro_z</th>\n",
       "      <th>second</th>\n",
       "      <th>Speed</th>\n",
       "    </tr>\n",
       "  </thead>\n",
       "  <tbody>\n",
       "    <tr>\n",
       "      <th>1613554</th>\n",
       "      <td>884763262985</td>\n",
       "      <td>3.90</td>\n",
       "      <td>226.000000</td>\n",
       "      <td>0.260422</td>\n",
       "      <td>9.907822</td>\n",
       "      <td>3.162796</td>\n",
       "      <td>0.013733</td>\n",
       "      <td>0.010056</td>\n",
       "      <td>0.017792</td>\n",
       "      <td>98.0</td>\n",
       "      <td>9.98000</td>\n",
       "    </tr>\n",
       "    <tr>\n",
       "      <th>1613555</th>\n",
       "      <td>1571958030347</td>\n",
       "      <td>5.00</td>\n",
       "      <td>341.782990</td>\n",
       "      <td>-1.168625</td>\n",
       "      <td>-9.396103</td>\n",
       "      <td>-0.009271</td>\n",
       "      <td>0.032545</td>\n",
       "      <td>0.009954</td>\n",
       "      <td>0.038534</td>\n",
       "      <td>509.0</td>\n",
       "      <td>6.44000</td>\n",
       "    </tr>\n",
       "    <tr>\n",
       "      <th>1613556</th>\n",
       "      <td>584115552361</td>\n",
       "      <td>6.00</td>\n",
       "      <td>50.000000</td>\n",
       "      <td>6.186806</td>\n",
       "      <td>6.809318</td>\n",
       "      <td>0.234639</td>\n",
       "      <td>0.505468</td>\n",
       "      <td>0.255951</td>\n",
       "      <td>0.202501</td>\n",
       "      <td>519.0</td>\n",
       "      <td>NaN</td>\n",
       "    </tr>\n",
       "    <tr>\n",
       "      <th>1613557</th>\n",
       "      <td>1073741824126</td>\n",
       "      <td>10.72</td>\n",
       "      <td>324.000000</td>\n",
       "      <td>-0.274582</td>\n",
       "      <td>8.512177</td>\n",
       "      <td>3.903046</td>\n",
       "      <td>-0.037451</td>\n",
       "      <td>-0.044601</td>\n",
       "      <td>-0.033173</td>\n",
       "      <td>2289.0</td>\n",
       "      <td>8.77000</td>\n",
       "    </tr>\n",
       "    <tr>\n",
       "      <th>1613558</th>\n",
       "      <td>884763263001</td>\n",
       "      <td>12.00</td>\n",
       "      <td>357.002563</td>\n",
       "      <td>0.989182</td>\n",
       "      <td>-9.599023</td>\n",
       "      <td>-6.042905</td>\n",
       "      <td>0.035069</td>\n",
       "      <td>-0.031591</td>\n",
       "      <td>0.021383</td>\n",
       "      <td>310.0</td>\n",
       "      <td>28.19813</td>\n",
       "    </tr>\n",
       "  </tbody>\n",
       "</table>\n",
       "</div>"
      ],
      "text/plain": [
       "             bookingID  Accuracy     Bearing  acceleration_x  acceleration_y  \\\n",
       "1613554   884763262985      3.90  226.000000        0.260422        9.907822   \n",
       "1613555  1571958030347      5.00  341.782990       -1.168625       -9.396103   \n",
       "1613556   584115552361      6.00   50.000000        6.186806        6.809318   \n",
       "1613557  1073741824126     10.72  324.000000       -0.274582        8.512177   \n",
       "1613558   884763263001     12.00  357.002563        0.989182       -9.599023   \n",
       "\n",
       "         acceleration_z    gyro_x    gyro_y    gyro_z  second     Speed  \n",
       "1613554        3.162796  0.013733  0.010056  0.017792    98.0   9.98000  \n",
       "1613555       -0.009271  0.032545  0.009954  0.038534   509.0   6.44000  \n",
       "1613556        0.234639  0.505468  0.255951  0.202501   519.0       NaN  \n",
       "1613557        3.903046 -0.037451 -0.044601 -0.033173  2289.0   8.77000  \n",
       "1613558       -6.042905  0.035069 -0.031591  0.021383   310.0  28.19813  "
      ]
     },
     "execution_count": 90,
     "metadata": {},
     "output_type": "execute_result"
    }
   ],
   "source": [
    "# Combine all sensor dataset to form one sensor data\n",
    "all_sensors = pd.concat([sensor1, sensor2, sensor3, sensor4, sensor5])\n",
    "all_sensors.tail()"
   ]
  },
  {
   "cell_type": "code",
   "execution_count": null,
   "metadata": {},
   "outputs": [],
   "source": [
    "# stop running notebook\n",
    "import sys\n",
    "sys.exit()"
   ]
  },
  {
   "cell_type": "code",
   "execution_count": 92,
   "metadata": {},
   "outputs": [
    {
     "name": "stdout",
     "output_type": "stream",
     "text": [
      "Sensor data is clean\n"
     ]
    }
   ],
   "source": [
    "switch = True\n",
    "data = all_sensors\n",
    "for bookingID in np.unique(data['bookingID']):\n",
    "    if len(np.unique(data[(data['bookingID']==bookingID)]['second'])) != len(data[(data['bookingID']==bookingID)]):\n",
    "        print(f\"Anomaly detected: {bookingID}\")\n",
    "        switch = False\n",
    "if switch == True:\n",
    "    print(\"Sensor data is clean\")"
   ]
  },
  {
   "cell_type": "markdown",
   "metadata": {},
   "source": [
    "<b>Results:</b>\n",
    "\n",
    "The bookingIDs are not unique and there are multiple readings going on throught the trip for the same bookingID. However, a composite key of bookingID and number of seconds is unique."
   ]
  }
 ],
 "metadata": {
  "kernelspec": {
   "display_name": "Python 3.9.4 64-bit",
   "language": "python",
   "name": "python3"
  },
  "language_info": {
   "codemirror_mode": {
    "name": "ipython",
    "version": 3
   },
   "file_extension": ".py",
   "mimetype": "text/x-python",
   "name": "python",
   "nbconvert_exporter": "python",
   "pygments_lexer": "ipython3",
   "version": "3.9.4"
  },
  "orig_nbformat": 4,
  "vscode": {
   "interpreter": {
    "hash": "11938c6bc6919ae2720b4d5011047913343b08a43b18698fd82dedb0d4417594"
   }
  }
 },
 "nbformat": 4,
 "nbformat_minor": 2
}
