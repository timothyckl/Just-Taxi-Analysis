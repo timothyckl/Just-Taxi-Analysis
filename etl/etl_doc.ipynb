{
 "cells": [
  {
   "cell_type": "markdown",
   "metadata": {},
   "source": [
    "# ETL Pipeline\n",
    "To load data from SQL into python"
   ]
  },
  {
   "cell_type": "code",
   "execution_count": 1,
   "metadata": {},
   "outputs": [
    {
     "name": "stdout",
     "output_type": "stream",
     "text": [
      "Requirement already satisfied: sqlalchemy in c:\\users\\sujasri\\anaconda3\\lib\\site-packages (1.4.7)\n",
      "Requirement already satisfied: greenlet!=0.4.17 in c:\\users\\sujasri\\anaconda3\\lib\\site-packages (from sqlalchemy) (1.0.0)\n",
      "Requirement already satisfied: dask in c:\\users\\sujasri\\anaconda3\\lib\\site-packages (2021.4.0)\n",
      "Requirement already satisfied: pyyaml in c:\\users\\sujasri\\anaconda3\\lib\\site-packages (from dask) (5.4.1)\n",
      "Requirement already satisfied: fsspec>=0.6.0 in c:\\users\\sujasri\\anaconda3\\lib\\site-packages (from dask) (0.9.0)\n",
      "Requirement already satisfied: cloudpickle>=1.1.1 in c:\\users\\sujasri\\anaconda3\\lib\\site-packages (from dask) (1.6.0)\n",
      "Requirement already satisfied: toolz>=0.8.2 in c:\\users\\sujasri\\anaconda3\\lib\\site-packages (from dask) (0.11.1)\n",
      "Requirement already satisfied: partd>=0.3.10 in c:\\users\\sujasri\\anaconda3\\lib\\site-packages (from dask) (1.2.0)\n",
      "Requirement already satisfied: locket in c:\\users\\sujasri\\anaconda3\\lib\\site-packages\\locket-0.2.1-py3.8.egg (from partd>=0.3.10->dask) (0.2.1)\n",
      "Requirement already satisfied: pyodbc in c:\\users\\sujasri\\anaconda3\\lib\\site-packages (4.0.0-unsupported)\n"
     ]
    }
   ],
   "source": [
    "!pip install sqlalchemy\n",
    "!pip install dask\n",
    "!pip install pyodbc"
   ]
  },
  {
   "cell_type": "code",
   "execution_count": 2,
   "metadata": {},
   "outputs": [],
   "source": [
    "import os\n",
    "import pandas as pd\n",
    "import dask.dataframe as dd\n",
    "from sqlalchemy import create_engine\n",
    "\n",
    "from warnings import filterwarnings \n",
    "filterwarnings('ignore')"
   ]
  },
  {
   "cell_type": "markdown",
   "metadata": {},
   "source": [
    "# Extract\n",
    "Load all 3 tables from SQL into pandas DataFrames"
   ]
  },
  {
   "cell_type": "code",
   "execution_count": 3,
   "metadata": {},
   "outputs": [
    {
     "name": "stdout",
     "output_type": "stream",
     "text": [
      "Wall time: 323 ms\n"
     ]
    }
   ],
   "source": [
    "%%time\n",
    "\n",
    "# set to your own desktop name\n",
    "pc_name = os.environ['COMPUTERNAME']\n",
    "\n",
    "# connect to MS-SQL\n",
    "server = f\"{pc_name}\\SQLEXPRESS\" # SQL Server Name\n",
    "database = \"JustTaxi\" # database name\n",
    "con_string = f'mssql+pyodbc://{server}/{database}?driver=SQL Server'\n",
    "engine = create_engine(con_string)\n",
    "\n",
    "# retrieve data\n",
    "connection = engine.connect()\n",
    "\n",
    "# driver data\n",
    "drivers = connection.execute('SELECT * FROM drivers')\n",
    "driver_data = pd.DataFrame(data=drivers.fetchall(), columns=drivers.keys())\n",
    "\n",
    "# trip data\n",
    "trips = connection.execute('SELECT * FROM trips')\n",
    "trip_data = pd.DataFrame(data=trips.fetchall(), columns=trips.keys())\n",
    "\n",
    "connection.close() # close connection explicitly"
   ]
  },
  {
   "cell_type": "code",
   "execution_count": 4,
   "metadata": {},
   "outputs": [
    {
     "name": "stdout",
     "output_type": "stream",
     "text": [
      "Wall time: 4min 20s\n"
     ]
    }
   ],
   "source": [
    "%%time\n",
    "# get sensor data by chunksize\n",
    "# connection = engine.connect().execution_options(stream_results=True)\n",
    "sensor_data_generator = pd.read_sql_query('SELECT * FROM sensor_data', con_string, chunksize=10**5)\n",
    "sensor_data = pd.concat([chunk for chunk in sensor_data_generator])"
   ]
  },
  {
   "cell_type": "code",
   "execution_count": 5,
   "metadata": {},
   "outputs": [
    {
     "name": "stdout",
     "output_type": "stream",
     "text": [
      "<class 'pandas.core.frame.DataFrame'>\n",
      "RangeIndex: 148 entries, 0 to 147\n",
      "Data columns (total 7 columns):\n",
      " #   Column         Non-Null Count  Dtype \n",
      "---  ------         --------------  ----- \n",
      " 0   driver_id      148 non-null    object\n",
      " 1   name           148 non-null    object\n",
      " 2   date_of_birth  148 non-null    object\n",
      " 3   gender         148 non-null    object\n",
      " 4   car_model      148 non-null    object\n",
      " 5   car_make_year  148 non-null    object\n",
      " 6   rating         148 non-null    object\n",
      "dtypes: object(7)\n",
      "memory usage: 8.2+ KB\n"
     ]
    }
   ],
   "source": [
    "driver_data.info()"
   ]
  },
  {
   "cell_type": "code",
   "execution_count": 6,
   "metadata": {},
   "outputs": [
    {
     "name": "stdout",
     "output_type": "stream",
     "text": [
      "<class 'pandas.core.frame.DataFrame'>\n",
      "RangeIndex: 20000 entries, 0 to 19999\n",
      "Data columns (total 3 columns):\n",
      " #   Column        Non-Null Count  Dtype \n",
      "---  ------        --------------  ----- \n",
      " 0   booking_id    20000 non-null  object\n",
      " 1   driver_id     20000 non-null  object\n",
      " 2   safety_label  20000 non-null  object\n",
      "dtypes: object(3)\n",
      "memory usage: 468.9+ KB\n"
     ]
    }
   ],
   "source": [
    "trip_data.info()"
   ]
  },
  {
   "cell_type": "code",
   "execution_count": 7,
   "metadata": {},
   "outputs": [
    {
     "name": "stdout",
     "output_type": "stream",
     "text": [
      "<class 'pandas.core.frame.DataFrame'>\n",
      "Int64Index: 7469656 entries, 0 to 69655\n",
      "Data columns (total 11 columns):\n",
      " #   Column          Dtype  \n",
      "---  ------          -----  \n",
      " 0   booking_id      object \n",
      " 1   accuracy        float64\n",
      " 2   bearing         float64\n",
      " 3   acceleration_x  float64\n",
      " 4   acceleration_y  float64\n",
      " 5   acceleration_z  float64\n",
      " 6   gyro_x          float64\n",
      " 7   gyro_y          float64\n",
      " 8   gyro_z          float64\n",
      " 9   second          float64\n",
      " 10  speed           float64\n",
      "dtypes: float64(10), object(1)\n",
      "memory usage: 683.9+ MB\n"
     ]
    }
   ],
   "source": [
    "sensor_data.info()  "
   ]
  },
  {
   "cell_type": "markdown",
   "metadata": {},
   "source": [
    "# Transform\n",
    "Clean and merge the DataFrames"
   ]
  },
  {
   "cell_type": "markdown",
   "metadata": {},
   "source": [
    "## Remove duplicated data"
   ]
  },
  {
   "cell_type": "code",
   "execution_count": 8,
   "metadata": {},
   "outputs": [],
   "source": [
    "# remove duplicated data from all 3 dataframes\n",
    "driver_data = driver_data.drop_duplicates()\n",
    "trip_data = trip_data.drop_duplicates()\n",
    "sensor_data = sensor_data.drop_duplicates()"
   ]
  },
  {
   "cell_type": "markdown",
   "metadata": {},
   "source": [
    "## Merge dataframes"
   ]
  },
  {
   "cell_type": "code",
   "execution_count": 9,
   "metadata": {},
   "outputs": [
    {
     "name": "stdout",
     "output_type": "stream",
     "text": [
      "Wall time: 1.75 s\n"
     ]
    }
   ],
   "source": [
    "%%time\n",
    "\n",
    "# merge driver and trip data\n",
    "driver_trips = trip_data.merge(driver_data, on='driver_id', how='left')\n",
    "\n",
    "# merge driver_trips and sensor data\n",
    "driver_trips_sensor = sensor_data.merge(driver_trips, on='booking_id', how='left')"
   ]
  },
  {
   "cell_type": "code",
   "execution_count": 10,
   "metadata": {},
   "outputs": [
    {
     "data": {
      "text/html": [
       "<div>\n",
       "<style scoped>\n",
       "    .dataframe tbody tr th:only-of-type {\n",
       "        vertical-align: middle;\n",
       "    }\n",
       "\n",
       "    .dataframe tbody tr th {\n",
       "        vertical-align: top;\n",
       "    }\n",
       "\n",
       "    .dataframe thead th {\n",
       "        text-align: right;\n",
       "    }\n",
       "</style>\n",
       "<table border=\"1\" class=\"dataframe\">\n",
       "  <thead>\n",
       "    <tr style=\"text-align: right;\">\n",
       "      <th></th>\n",
       "      <th>booking_id</th>\n",
       "      <th>accuracy</th>\n",
       "      <th>bearing</th>\n",
       "      <th>acceleration_x</th>\n",
       "      <th>acceleration_y</th>\n",
       "      <th>acceleration_z</th>\n",
       "      <th>gyro_x</th>\n",
       "      <th>gyro_y</th>\n",
       "      <th>gyro_z</th>\n",
       "      <th>second</th>\n",
       "      <th>speed</th>\n",
       "      <th>driver_id</th>\n",
       "      <th>safety_label</th>\n",
       "      <th>name</th>\n",
       "      <th>date_of_birth</th>\n",
       "      <th>gender</th>\n",
       "      <th>car_model</th>\n",
       "      <th>car_make_year</th>\n",
       "      <th>rating</th>\n",
       "    </tr>\n",
       "  </thead>\n",
       "  <tbody>\n",
       "    <tr>\n",
       "      <th>0</th>\n",
       "      <td>0</td>\n",
       "      <td>8.0</td>\n",
       "      <td>143.298294</td>\n",
       "      <td>-1.706207</td>\n",
       "      <td>-9.270792</td>\n",
       "      <td>-1.209448</td>\n",
       "      <td>-0.028965</td>\n",
       "      <td>-0.032652</td>\n",
       "      <td>0.015390</td>\n",
       "      <td>2.0</td>\n",
       "      <td>0.228454</td>\n",
       "      <td>48</td>\n",
       "      <td>0</td>\n",
       "      <td>Lilia</td>\n",
       "      <td>1974-08-13</td>\n",
       "      <td>Male</td>\n",
       "      <td>Mercedes-Benz</td>\n",
       "      <td>2013-01-01</td>\n",
       "      <td>4.0</td>\n",
       "    </tr>\n",
       "    <tr>\n",
       "      <th>1</th>\n",
       "      <td>0</td>\n",
       "      <td>8.0</td>\n",
       "      <td>143.298294</td>\n",
       "      <td>-1.416705</td>\n",
       "      <td>-9.548032</td>\n",
       "      <td>-1.860977</td>\n",
       "      <td>-0.022413</td>\n",
       "      <td>0.005049</td>\n",
       "      <td>-0.025753</td>\n",
       "      <td>3.0</td>\n",
       "      <td>0.228454</td>\n",
       "      <td>48</td>\n",
       "      <td>0</td>\n",
       "      <td>Lilia</td>\n",
       "      <td>1974-08-13</td>\n",
       "      <td>Male</td>\n",
       "      <td>Mercedes-Benz</td>\n",
       "      <td>2013-01-01</td>\n",
       "      <td>4.0</td>\n",
       "    </tr>\n",
       "    <tr>\n",
       "      <th>2</th>\n",
       "      <td>0</td>\n",
       "      <td>8.0</td>\n",
       "      <td>143.298294</td>\n",
       "      <td>-0.346924</td>\n",
       "      <td>-9.532629</td>\n",
       "      <td>-1.204663</td>\n",
       "      <td>0.014962</td>\n",
       "      <td>-0.050033</td>\n",
       "      <td>0.025118</td>\n",
       "      <td>9.0</td>\n",
       "      <td>0.228454</td>\n",
       "      <td>48</td>\n",
       "      <td>0</td>\n",
       "      <td>Lilia</td>\n",
       "      <td>1974-08-13</td>\n",
       "      <td>Male</td>\n",
       "      <td>Mercedes-Benz</td>\n",
       "      <td>2013-01-01</td>\n",
       "      <td>4.0</td>\n",
       "    </tr>\n",
       "    <tr>\n",
       "      <th>3</th>\n",
       "      <td>0</td>\n",
       "      <td>8.0</td>\n",
       "      <td>143.298294</td>\n",
       "      <td>-0.600986</td>\n",
       "      <td>-9.452029</td>\n",
       "      <td>-2.157507</td>\n",
       "      <td>0.004548</td>\n",
       "      <td>-0.011713</td>\n",
       "      <td>-0.004078</td>\n",
       "      <td>11.0</td>\n",
       "      <td>0.228454</td>\n",
       "      <td>48</td>\n",
       "      <td>0</td>\n",
       "      <td>Lilia</td>\n",
       "      <td>1974-08-13</td>\n",
       "      <td>Male</td>\n",
       "      <td>Mercedes-Benz</td>\n",
       "      <td>2013-01-01</td>\n",
       "      <td>4.0</td>\n",
       "    </tr>\n",
       "    <tr>\n",
       "      <th>4</th>\n",
       "      <td>0</td>\n",
       "      <td>8.0</td>\n",
       "      <td>143.298294</td>\n",
       "      <td>-0.597546</td>\n",
       "      <td>-9.863403</td>\n",
       "      <td>-1.672711</td>\n",
       "      <td>-0.000401</td>\n",
       "      <td>0.000315</td>\n",
       "      <td>-0.009830</td>\n",
       "      <td>12.0</td>\n",
       "      <td>0.228454</td>\n",
       "      <td>48</td>\n",
       "      <td>0</td>\n",
       "      <td>Lilia</td>\n",
       "      <td>1974-08-13</td>\n",
       "      <td>Male</td>\n",
       "      <td>Mercedes-Benz</td>\n",
       "      <td>2013-01-01</td>\n",
       "      <td>4.0</td>\n",
       "    </tr>\n",
       "  </tbody>\n",
       "</table>\n",
       "</div>"
      ],
      "text/plain": [
       "  booking_id  accuracy     bearing  acceleration_x  acceleration_y  \\\n",
       "0          0       8.0  143.298294       -1.706207       -9.270792   \n",
       "1          0       8.0  143.298294       -1.416705       -9.548032   \n",
       "2          0       8.0  143.298294       -0.346924       -9.532629   \n",
       "3          0       8.0  143.298294       -0.600986       -9.452029   \n",
       "4          0       8.0  143.298294       -0.597546       -9.863403   \n",
       "\n",
       "   acceleration_z    gyro_x    gyro_y    gyro_z  second     speed driver_id  \\\n",
       "0       -1.209448 -0.028965 -0.032652  0.015390     2.0  0.228454        48   \n",
       "1       -1.860977 -0.022413  0.005049 -0.025753     3.0  0.228454        48   \n",
       "2       -1.204663  0.014962 -0.050033  0.025118     9.0  0.228454        48   \n",
       "3       -2.157507  0.004548 -0.011713 -0.004078    11.0  0.228454        48   \n",
       "4       -1.672711 -0.000401  0.000315 -0.009830    12.0  0.228454        48   \n",
       "\n",
       "  safety_label   name date_of_birth gender      car_model car_make_year rating  \n",
       "0            0  Lilia    1974-08-13   Male  Mercedes-Benz    2013-01-01    4.0  \n",
       "1            0  Lilia    1974-08-13   Male  Mercedes-Benz    2013-01-01    4.0  \n",
       "2            0  Lilia    1974-08-13   Male  Mercedes-Benz    2013-01-01    4.0  \n",
       "3            0  Lilia    1974-08-13   Male  Mercedes-Benz    2013-01-01    4.0  \n",
       "4            0  Lilia    1974-08-13   Male  Mercedes-Benz    2013-01-01    4.0  "
      ]
     },
     "execution_count": 10,
     "metadata": {},
     "output_type": "execute_result"
    }
   ],
   "source": [
    "driver_trips_sensor.head()"
   ]
  },
  {
   "cell_type": "code",
   "execution_count": 11,
   "metadata": {},
   "outputs": [
    {
     "name": "stdout",
     "output_type": "stream",
     "text": [
      "<class 'pandas.core.frame.DataFrame'>\n",
      "Int64Index: 7469656 entries, 0 to 7469655\n",
      "Data columns (total 19 columns):\n",
      " #   Column          Non-Null Count    Dtype  \n",
      "---  ------          --------------    -----  \n",
      " 0   booking_id      7469656 non-null  object \n",
      " 1   accuracy        7351631 non-null  float64\n",
      " 2   bearing         7350253 non-null  float64\n",
      " 3   acceleration_x  7364539 non-null  float64\n",
      " 4   acceleration_y  7346553 non-null  float64\n",
      " 5   acceleration_z  7370520 non-null  float64\n",
      " 6   gyro_x          7336398 non-null  float64\n",
      " 7   gyro_y          7329944 non-null  float64\n",
      " 8   gyro_z          7404168 non-null  float64\n",
      " 9   second          7469656 non-null  float64\n",
      " 10  speed           7346079 non-null  float64\n",
      " 11  driver_id       7469656 non-null  object \n",
      " 12  safety_label    7469656 non-null  object \n",
      " 13  name            7469656 non-null  object \n",
      " 14  date_of_birth   7469656 non-null  object \n",
      " 15  gender          7469656 non-null  object \n",
      " 16  car_model       7469656 non-null  object \n",
      " 17  car_make_year   7469656 non-null  object \n",
      " 18  rating          7469656 non-null  object \n",
      "dtypes: float64(10), object(9)\n",
      "memory usage: 1.1+ GB\n"
     ]
    }
   ],
   "source": [
    "driver_trips_sensor.info(show_counts=True)"
   ]
  },
  {
   "cell_type": "code",
   "execution_count": 12,
   "metadata": {},
   "outputs": [
    {
     "name": "stdout",
     "output_type": "stream",
     "text": [
      "<class 'pandas.core.frame.DataFrame'>\n",
      "Int64Index: 7469656 entries, 0 to 7469655\n",
      "Data columns (total 19 columns):\n",
      " #   Column          Non-Null Count    Dtype  \n",
      "---  ------          --------------    -----  \n",
      " 0   booking_id      7469656 non-null  object \n",
      " 1   driver_id       7469656 non-null  object \n",
      " 2   name            7469656 non-null  object \n",
      " 3   date_of_birth   7469656 non-null  object \n",
      " 4   gender          7469656 non-null  object \n",
      " 5   car_model       7469656 non-null  object \n",
      " 6   car_make_year   7469656 non-null  object \n",
      " 7   accuracy        7351631 non-null  float64\n",
      " 8   bearing         7350253 non-null  float64\n",
      " 9   acceleration_x  7364539 non-null  float64\n",
      " 10  acceleration_y  7346553 non-null  float64\n",
      " 11  acceleration_z  7370520 non-null  float64\n",
      " 12  gyro_x          7336398 non-null  float64\n",
      " 13  gyro_y          7329944 non-null  float64\n",
      " 14  gyro_z          7404168 non-null  float64\n",
      " 15  second          7469656 non-null  float64\n",
      " 16  speed           7346079 non-null  float64\n",
      " 17  rating          7469656 non-null  object \n",
      " 18  safety_label    7469656 non-null  object \n",
      "dtypes: float64(10), object(9)\n",
      "memory usage: 1.1+ GB\n"
     ]
    }
   ],
   "source": [
    "taxi_data = driver_trips_sensor[['booking_id', 'driver_id', 'name', 'date_of_birth', 'gender', 'car_model', 'car_make_year', 'accuracy', 'bearing', 'acceleration_x', 'acceleration_y', 'acceleration_z', 'gyro_x', 'gyro_y', 'gyro_z', 'second', 'speed', 'rating', 'safety_label']]\n",
    "taxi_data.info(show_counts=True)"
   ]
  },
  {
   "cell_type": "code",
   "execution_count": 13,
   "metadata": {},
   "outputs": [
    {
     "name": "stdout",
     "output_type": "stream",
     "text": [
      "Wall time: 1min 17s\n"
     ]
    }
   ],
   "source": [
    "%%time\n",
    "# if directory does not exist, create it\n",
    "if not os.path.exists('../data/cleaned/'):\n",
    "    os.makedirs('../data/cleaned/')\n",
    "\n",
    "# save data to csv\n",
    "taxi_data.to_csv('../data/cleaned/taxi_data.csv', index=False)"
   ]
  }
 ],
 "metadata": {
  "kernelspec": {
   "display_name": "Python 3.8.8 ('base')",
   "language": "python",
   "name": "python3"
  },
  "language_info": {
   "codemirror_mode": {
    "name": "ipython",
    "version": 3
   },
   "file_extension": ".py",
   "mimetype": "text/x-python",
   "name": "python",
   "nbconvert_exporter": "python",
   "pygments_lexer": "ipython3",
   "version": "3.8.8"
  },
  "orig_nbformat": 4,
  "vscode": {
   "interpreter": {
    "hash": "bc229bf33cda2073d170eec350c7aba4898fe924aeef1f317dcc302ba02c1f77"
   }
  }
 },
 "nbformat": 4,
 "nbformat_minor": 2
}
