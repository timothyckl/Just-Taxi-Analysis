{
 "cells": [
  {
   "cell_type": "code",
   "execution_count": null,
   "metadata": {},
   "outputs": [],
   "source": [
    "# clear memory\n",
    "%reset -f"
   ]
  },
  {
   "cell_type": "code",
   "execution_count": 2,
   "metadata": {},
   "outputs": [],
   "source": [
    "import numpy as np\n",
    "import pandas as pd\n",
    "import dask.dataframe as dd\n",
    "import matplotlib.pyplot as plt\n",
    "import seaborn as sns"
   ]
  },
  {
   "cell_type": "markdown",
   "metadata": {},
   "source": [
    "# Load data as Dask DataFrame"
   ]
  },
  {
   "cell_type": "code",
   "execution_count": 5,
   "metadata": {},
   "outputs": [
    {
     "name": "stdout",
     "output_type": "stream",
     "text": [
      "<class 'pandas.core.frame.DataFrame'>\n",
      "Int64Index: 7469656 entries, 0 to 171243\n",
      "Data columns (total 21 columns):\n",
      " #   Column           Dtype  \n",
      "---  ------           -----  \n",
      " 0   booking_id       int64  \n",
      " 1   name             object \n",
      " 2   driver_age       int64  \n",
      " 3   gender           object \n",
      " 4   car_model        object \n",
      " 5   car_make_year    int64  \n",
      " 6   accuracy         float64\n",
      " 7   direction        object \n",
      " 8   acceleration_x   float64\n",
      " 9   acceleration_y   float64\n",
      " 10  acceleration_z   float64\n",
      " 11  MA (m/s^2)       float64\n",
      " 12  gyro_x           float64\n",
      " 13  gyro_y           float64\n",
      " 14  gyro_z           float64\n",
      " 15  MAV (rad/s)      float64\n",
      " 16  second           float64\n",
      " 17  duration (mins)  float64\n",
      " 18  speed (km/h)     float64\n",
      " 19  rating           float64\n",
      " 20  safety_label     int64  \n",
      "dtypes: float64(13), int64(4), object(4)\n",
      "memory usage: 1.2+ GB\n",
      "Wall time: 27.4 s\n"
     ]
    }
   ],
   "source": [
    "%%time\n",
    "# import data as dask dataframe\n",
    "df = dd.read_csv('..\\\\data\\\\cleaned\\\\cleaned_taxi_data.csv')\n",
    "\n",
    "df.compute().info()"
   ]
  },
  {
   "cell_type": "markdown",
   "metadata": {},
   "source": [
    "# Change Datatypes for lower memory usage"
   ]
  },
  {
   "cell_type": "code",
   "execution_count": 8,
   "metadata": {},
   "outputs": [],
   "source": [
    "# change columns to category datatype\n",
    "df['safety_label'] = df['safety_label'].astype('category')\n",
    "df['direction'] = df['direction'].astype('category')\n",
    "df['gender'] = df['gender'].astype('category')\n",
    "df['car_model'] = df['car_model'].astype('category')\n",
    "\n",
    "# change driver age to int8\n",
    "df['driver_age'] = df['driver_age'].astype('int8')\n",
    "\n",
    "# change car_make_year to int16\n",
    "df['car_make_year'] = df['car_make_year'].astype('int16')\n",
    "\n",
    "# change rating to float16\n",
    "df['rating'] = df['rating'].astype('float16')\n",
    "df['rating'] = df['rating'].astype('float16')\n",
    "\n",
    "# change booking_id to object\n",
    "df['booking_id'] = df['booking_id'].astype('object')"
   ]
  },
  {
   "cell_type": "code",
   "execution_count": 9,
   "metadata": {},
   "outputs": [],
   "source": [
    "# check memory usage and new datatypes\n",
    "df.compute().info()"
   ]
  },
  {
   "cell_type": "markdown",
   "metadata": {},
   "source": [
    "# Outlier Analysis"
   ]
  },
  {
   "cell_type": "code",
   "execution_count": null,
   "metadata": {},
   "outputs": [],
   "source": [
    "# get column names where datatype is numerical\n",
    "num_cols = df.select_dtypes(include=['int8', 'int16', 'int32', 'int64', 'float16', 'float32', 'float64']).columns"
   ]
  }
 ],
 "metadata": {
  "kernelspec": {
   "display_name": "Python 3.9.4 64-bit",
   "language": "python",
   "name": "python3"
  },
  "language_info": {
   "codemirror_mode": {
    "name": "ipython",
    "version": 3
   },
   "file_extension": ".py",
   "mimetype": "text/x-python",
   "name": "python",
   "nbconvert_exporter": "python",
   "pygments_lexer": "ipython3",
   "version": "3.9.4"
  },
  "orig_nbformat": 4,
  "vscode": {
   "interpreter": {
    "hash": "11938c6bc6919ae2720b4d5011047913343b08a43b18698fd82dedb0d4417594"
   }
  }
 },
 "nbformat": 4,
 "nbformat_minor": 2
}
