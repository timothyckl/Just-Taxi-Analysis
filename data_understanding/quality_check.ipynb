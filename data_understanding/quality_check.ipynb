{
 "cells": [
  {
   "cell_type": "markdown",
   "metadata": {},
   "source": [
    "# Verifying Data Quality\n",
    "This process is needed to check if data has any problems. This step is required before inserting data into the database. There are 7 datasets in total.\n",
    "\n",
    "Things to check:\n",
    "* Are there any duplicates in the data?\n",
    "* Are any of the data in incorrect format?\n",
    "* Do all the data have the same columns? (for sensor data)\n",
    "* Do all data in each column have the same datatype across all 5 sensor datasets?"
   ]
  },
  {
   "cell_type": "code",
   "execution_count": 3,
   "metadata": {},
   "outputs": [],
   "source": [
    "import numpy as np\n",
    "import pandas as pd"
   ]
  },
  {
   "cell_type": "code",
   "execution_count": 4,
   "metadata": {},
   "outputs": [
    {
     "name": "stdout",
     "output_type": "stream",
     "text": [
      "<class 'pandas.core.frame.DataFrame'>\n",
      "RangeIndex: 148 entries, 0 to 147\n",
      "Data columns (total 7 columns):\n",
      " #   Column         Non-Null Count  Dtype  \n",
      "---  ------         --------------  -----  \n",
      " 0   id             148 non-null    int64  \n",
      " 1   name           148 non-null    object \n",
      " 2   date_of_birth  148 non-null    object \n",
      " 3   gender         148 non-null    object \n",
      " 4   car_model      148 non-null    object \n",
      " 5   car_make_year  148 non-null    int64  \n",
      " 6   rating         148 non-null    float64\n",
      "dtypes: float64(1), int64(2), object(4)\n",
      "memory usage: 8.2+ KB\n"
     ]
    }
   ],
   "source": [
    "driver_data = pd.read_csv('..\\data\\driver_data.csv')\n",
    "driver_data.info()"
   ]
  },
  {
   "cell_type": "code",
   "execution_count": 5,
   "metadata": {},
   "outputs": [
    {
     "name": "stdout",
     "output_type": "stream",
     "text": [
      "<class 'pandas.core.frame.DataFrame'>\n",
      "RangeIndex: 20000 entries, 0 to 19999\n",
      "Data columns (total 3 columns):\n",
      " #   Column     Non-Null Count  Dtype\n",
      "---  ------     --------------  -----\n",
      " 0   bookingID  20000 non-null  int64\n",
      " 1   driver_id  20000 non-null  int64\n",
      " 2   label      20000 non-null  int64\n",
      "dtypes: int64(3)\n",
      "memory usage: 468.9 KB\n"
     ]
    }
   ],
   "source": [
    "safety_labels = pd.read_csv('..\\data\\safety_labels.csv')\n",
    "safety_labels.info()"
   ]
  },
  {
   "cell_type": "code",
   "execution_count": 15,
   "metadata": {},
   "outputs": [],
   "source": [
    "sensor1 = pd.read_csv('..\\data\\sensor_data\\sensor_data_part-1.csv')\n",
    "sensor2 = pd.read_csv('..\\data\\sensor_data\\sensor_data_part-2.csv')\n",
    "sensor3 = pd.read_csv('..\\data\\sensor_data\\sensor_data_part-3.csv')\n",
    "sensor4 = pd.read_csv('..\\data\\sensor_data\\sensor_data_part-4.csv')\n",
    "sensor5 = pd.read_csv('..\\data\\sensor_data\\sensor_data_part-5.csv')"
   ]
  },
  {
   "cell_type": "code",
   "execution_count": 16,
   "metadata": {},
   "outputs": [
    {
     "name": "stdout",
     "output_type": "stream",
     "text": [
      "<class 'pandas.core.frame.DataFrame'>\n",
      "RangeIndex: 1613554 entries, 0 to 1613553\n",
      "Data columns (total 11 columns):\n",
      " #   Column          Non-Null Count    Dtype  \n",
      "---  ------          --------------    -----  \n",
      " 0   bookingID       1613554 non-null  int64  \n",
      " 1   Accuracy        1549012 non-null  float64\n",
      " 2   Bearing         1549012 non-null  float64\n",
      " 3   acceleration_x  1581283 non-null  float64\n",
      " 4   acceleration_y  1581283 non-null  float64\n",
      " 5   acceleration_z  1549012 non-null  float64\n",
      " 6   gyro_x          1565147 non-null  float64\n",
      " 7   gyro_y          1597418 non-null  float64\n",
      " 8   gyro_z          1613554 non-null  float64\n",
      " 9   second          1613554 non-null  float64\n",
      " 10  Speed           1565147 non-null  float64\n",
      "dtypes: float64(10), int64(1)\n",
      "memory usage: 135.4 MB\n"
     ]
    }
   ],
   "source": [
    "sensor1.info()"
   ]
  },
  {
   "cell_type": "markdown",
   "metadata": {},
   "source": [
    "## Duplicates Check"
   ]
  },
  {
   "cell_type": "code",
   "execution_count": 9,
   "metadata": {},
   "outputs": [
    {
     "data": {
      "text/plain": [
       "0"
      ]
     },
     "execution_count": 9,
     "metadata": {},
     "output_type": "execute_result"
    }
   ],
   "source": [
    "# check for duplicates in driver_data\n",
    "driver_data[driver_data.duplicated()].shape[0]"
   ]
  },
  {
   "cell_type": "code",
   "execution_count": 10,
   "metadata": {},
   "outputs": [
    {
     "data": {
      "text/plain": [
       "0"
      ]
     },
     "execution_count": 10,
     "metadata": {},
     "output_type": "execute_result"
    }
   ],
   "source": [
    "# check for duplicates in safety_labels\n",
    "safety_labels[safety_labels.duplicated()].shape[0]"
   ]
  },
  {
   "cell_type": "code",
   "execution_count": 17,
   "metadata": {},
   "outputs": [
    {
     "name": "stdout",
     "output_type": "stream",
     "text": [
      "Sensor1 duplicates: 0\n",
      "Sensor2 duplicates: 0\n",
      "Sensor3 duplicates: 0\n",
      "Sensor4 duplicates: 0\n",
      "Sensor5 duplicates: 0\n"
     ]
    }
   ],
   "source": [
    "# check for duplicates in all 5 sensor data\n",
    "print(f\"Sensor1 duplicates: {sensor1[sensor1.duplicated()].shape[0]}\")\n",
    "print(f\"Sensor2 duplicates: {sensor2[sensor2.duplicated()].shape[0]}\")\n",
    "print(f\"Sensor3 duplicates: {sensor3[sensor3.duplicated()].shape[0]}\")\n",
    "print(f\"Sensor4 duplicates: {sensor4[sensor4.duplicated()].shape[0]}\")\n",
    "print(f\"Sensor5 duplicates: {sensor5[sensor5.duplicated()].shape[0]}\")"
   ]
  },
  {
   "cell_type": "markdown",
   "metadata": {},
   "source": [
    "<b>Results: </b>There are no duplicates in any of the datasets"
   ]
  },
  {
   "cell_type": "markdown",
   "metadata": {},
   "source": [
    "## Column consistency check\n"
   ]
  },
  {
   "cell_type": "code",
   "execution_count": 32,
   "metadata": {},
   "outputs": [
    {
     "name": "stdout",
     "output_type": "stream",
     "text": [
      "Any different columns (1 and 2): False\n",
      "Any different columns (1 and 3): False\n",
      "Any different columns (1 and 4): False\n",
      "Any different columns (1 and 5): False\n"
     ]
    }
   ],
   "source": [
    "# check if column names are the same in all 5 sensor data (using sensor1 as reference)\n",
    "print(f\"Any different columns (1 and 2): {np.any((sensor1.columns == sensor2.columns) == False)}\")\n",
    "print(f\"Any different columns (1 and 3): {np.any((sensor1.columns == sensor3.columns) == False)}\")\n",
    "print(f\"Any different columns (1 and 4): {np.any((sensor1.columns == sensor4.columns) == False)}\")\n",
    "print(f\"Any different columns (1 and 5): {np.any((sensor1.columns == sensor5.columns) == False)}\")"
   ]
  },
  {
   "cell_type": "markdown",
   "metadata": {},
   "source": [
    "<b>Results: </b>Column names and count are all consistent throughout the 5 sensor datasets"
   ]
  },
  {
   "cell_type": "markdown",
   "metadata": {},
   "source": [
    "## Datatype consistency check\n",
    "Using sensor1 as benchmark, check if all the other 4 sensor datasets have the same datatype for each column"
   ]
  },
  {
   "cell_type": "code",
   "execution_count": 38,
   "metadata": {},
   "outputs": [
    {
     "data": {
      "text/plain": [
       "bookingID         True\n",
       "Accuracy          True\n",
       "Bearing           True\n",
       "acceleration_x    True\n",
       "acceleration_y    True\n",
       "acceleration_z    True\n",
       "gyro_x            True\n",
       "gyro_y            True\n",
       "gyro_z            True\n",
       "second            True\n",
       "Speed             True\n",
       "dtype: bool"
      ]
     },
     "execution_count": 38,
     "metadata": {},
     "output_type": "execute_result"
    }
   ],
   "source": [
    "sensor1.dtypes == sensor2.dtypes"
   ]
  },
  {
   "cell_type": "code",
   "execution_count": 39,
   "metadata": {},
   "outputs": [
    {
     "data": {
      "text/plain": [
       "bookingID         True\n",
       "Accuracy          True\n",
       "Bearing           True\n",
       "acceleration_x    True\n",
       "acceleration_y    True\n",
       "acceleration_z    True\n",
       "gyro_x            True\n",
       "gyro_y            True\n",
       "gyro_z            True\n",
       "second            True\n",
       "Speed             True\n",
       "dtype: bool"
      ]
     },
     "execution_count": 39,
     "metadata": {},
     "output_type": "execute_result"
    }
   ],
   "source": [
    "sensor1.dtypes == sensor3.dtypes"
   ]
  },
  {
   "cell_type": "code",
   "execution_count": 40,
   "metadata": {},
   "outputs": [
    {
     "data": {
      "text/plain": [
       "bookingID         True\n",
       "Accuracy          True\n",
       "Bearing           True\n",
       "acceleration_x    True\n",
       "acceleration_y    True\n",
       "acceleration_z    True\n",
       "gyro_x            True\n",
       "gyro_y            True\n",
       "gyro_z            True\n",
       "second            True\n",
       "Speed             True\n",
       "dtype: bool"
      ]
     },
     "execution_count": 40,
     "metadata": {},
     "output_type": "execute_result"
    }
   ],
   "source": [
    "sensor1.dtypes == sensor4.dtypes"
   ]
  },
  {
   "cell_type": "code",
   "execution_count": 42,
   "metadata": {},
   "outputs": [
    {
     "data": {
      "text/plain": [
       "bookingID         True\n",
       "Accuracy          True\n",
       "Bearing           True\n",
       "acceleration_x    True\n",
       "acceleration_y    True\n",
       "acceleration_z    True\n",
       "gyro_x            True\n",
       "gyro_y            True\n",
       "gyro_z            True\n",
       "second            True\n",
       "Speed             True\n",
       "dtype: bool"
      ]
     },
     "execution_count": 42,
     "metadata": {},
     "output_type": "execute_result"
    }
   ],
   "source": [
    "sensor1.dtypes == sensor5.dtypes"
   ]
  }
 ],
 "metadata": {
  "kernelspec": {
   "display_name": "Python 3.9.4 64-bit",
   "language": "python",
   "name": "python3"
  },
  "language_info": {
   "codemirror_mode": {
    "name": "ipython",
    "version": 3
   },
   "file_extension": ".py",
   "mimetype": "text/x-python",
   "name": "python",
   "nbconvert_exporter": "python",
   "pygments_lexer": "ipython3",
   "version": "3.9.4"
  },
  "orig_nbformat": 4,
  "vscode": {
   "interpreter": {
    "hash": "11938c6bc6919ae2720b4d5011047913343b08a43b18698fd82dedb0d4417594"
   }
  }
 },
 "nbformat": 4,
 "nbformat_minor": 2
}
